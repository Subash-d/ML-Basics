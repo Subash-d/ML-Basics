{
 "cells": [
  {
   "cell_type": "code",
   "execution_count": 1,
   "id": "29c5cb3f",
   "metadata": {},
   "outputs": [],
   "source": [
    "import re"
   ]
  },
  {
   "cell_type": "code",
   "execution_count": 76,
   "id": "da05b627",
   "metadata": {},
   "outputs": [
    {
     "name": "stdout",
     "output_type": "stream",
     "text": [
      "1. John called on 12-05-2023 using phone +1-202-555-0198.\n",
      "2. Maria registered on 03/11/2021 with number (415) 555-2671.\n",
      "3. Order placed by David at 2023-07-14, contact: 9876543210.\n",
      "4. Meeting scheduled on 15-Aug-2022, reach out: +44 7700 900123.\n",
      "5. Priya’s ticket confirmed on 21.09.2020, phone: 080-12345678.\n",
      "6. Invoice generated for Alex on 2022/10/05, mobile: 99999-88888.\n",
      "7. Appointment on Dec 05, 2021, contact via 123-456-7890.\n",
      "8. Rahul updated profile on 17/03/2023, phone: +91-98765-43210.\n",
      "9. Sarah joined on 2001-04-30, call at (212)555-3456.\n",
      "10. Payment received 25-12-2019, contact: 001-541-754-3010.\n",
      "11. Emily’s subscription started on 2023/01/15, phone: +1 (650) 555-1234.\n",
      "12. Daniel’s query logged on 2022-11-30, reach him at 555-0123.\n",
      "13. Jessica’s feedback received on 2023-02-20, contact: (415) 555-7890.\n",
      "14. Kevin’s issue reported on 2023-03-15, phone: +1-202-555-0199.\n"
     ]
    }
   ],
   "source": [
    "with open('Datasets/contacts.txt', 'r', encoding='utf-8') as file:\n",
    "    for line in file:\n",
    "        print(line.strip())"
   ]
  },
  {
   "cell_type": "code",
   "execution_count": 101,
   "id": "24d93e75",
   "metadata": {},
   "outputs": [
    {
     "name": "stdout",
     "output_type": "stream",
     "text": [
      "1 202-555-0198\n",
      "2 (415) 555-2671\n",
      "3 9876543210\n",
      "4  7700 900123\n",
      "5 080-12345678\n",
      "6 99999-88888\n",
      "7 123-456-7890\n",
      "8 98765-43210\n",
      "9 (212)555-3456\n",
      "10 541-754-3010\n",
      "11 (650) 555-1234\n",
      "13 (415) 555-7890\n",
      "14 202-555-0199\n"
     ]
    }
   ],
   "source": [
    "pattern = r'\\d{10}|\\d{5}-\\d{5}|(\\d{3})-(\\d{3})-(\\d{4})|\\(\\d{3}\\) \\d{3}-\\d{4}| \\d{4} \\d{6}|\\d{3}-\\d{8}|\\(\\d{3}\\)\\d{3}-\\d{4}'\n",
    "with open('Datasets/contacts.txt','r', encoding='utf-8') as file:\n",
    "    for index, line in enumerate(file):\n",
    "        match = re.search(pattern, line)\n",
    "        if match:\n",
    "            print(index+1 ,match.group())"
   ]
  },
  {
   "cell_type": "code",
   "execution_count": null,
   "id": "b61bd822",
   "metadata": {},
   "outputs": [],
   "source": []
  }
 ],
 "metadata": {
  "kernelspec": {
   "display_name": "Python 3",
   "language": "python",
   "name": "python3"
  },
  "language_info": {
   "codemirror_mode": {
    "name": "ipython",
    "version": 3
   },
   "file_extension": ".py",
   "mimetype": "text/x-python",
   "name": "python",
   "nbconvert_exporter": "python",
   "pygments_lexer": "ipython3",
   "version": "3.13.5"
  }
 },
 "nbformat": 4,
 "nbformat_minor": 5
}
