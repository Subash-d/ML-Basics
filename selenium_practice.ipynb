{
 "cells": [
  {
   "cell_type": "code",
   "execution_count": 29,
   "id": "79b6337e",
   "metadata": {},
   "outputs": [
    {
     "name": "stdout",
     "output_type": "stream",
     "text": [
      "Title:  Yahoo Finance - Stock Market Live, Quotes, Business & Finance News\n",
      "Assertion passed - 'Stock Market' found in title\n"
     ]
    }
   ],
   "source": [
    "from selenium import webdriver\n",
    "from selenium.webdriver.chrome.options import Options\n",
    "from selenium.webdriver.chrome.service import Service\n",
    "from webdriver_manager.chrome import ChromeDriverManager\n",
    "\n",
    "from selenium.webdriver.common.by import By\n",
    "\n",
    "options = Options()\n",
    "options.add_experimental_option('detach', True)\n",
    "driver = webdriver.Chrome(service= Service(ChromeDriverManager().install(), options = options))\n",
    "try:\n",
    "    driver.get('https://finance.yahoo.com/')\n",
    "    driver.maximize_window()\n",
    "    title = driver.title\n",
    "    print('Title: ', title)\n",
    "\n",
    "    assert 'Stock Market' in title, f\"Expected 'Stock Market' in title, but got '{title}'\"\n",
    "    print(\"Assertion passed - 'Stock Market' found in title\")\n",
    "except Exception as e:\n",
    "    print(e) "
   ]
  },
  {
   "cell_type": "code",
   "execution_count": null,
   "metadata": {},
   "outputs": [],
   "source": []
  }
 ],
 "metadata": {
  "kernelspec": {
   "display_name": "Python 3",
   "language": "python",
   "name": "python3"
  },
  "language_info": {
   "codemirror_mode": {
    "name": "ipython",
    "version": 3
   },
   "file_extension": ".py",
   "mimetype": "text/x-python",
   "name": "python",
   "nbconvert_exporter": "python",
   "pygments_lexer": "ipython3",
   "version": "3.13.5"
  }
 },
 "nbformat": 4,
 "nbformat_minor": 5
}
