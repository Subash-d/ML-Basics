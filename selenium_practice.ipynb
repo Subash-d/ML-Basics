{
 "cells": [
  {
   "cell_type": "code",
   "execution_count": 5,
   "id": "4da7766a",
   "metadata": {},
   "outputs": [
    {
     "name": "stdout",
     "output_type": "stream",
     "text": [
      "Error occurred: Message: \n",
      "\n"
     ]
    }
   ],
   "source": [
    "from selenium import webdriver\n",
    "from selenium.webdriver.common.by import By\n",
    "from selenium.webdriver.support.ui import WebDriverWait\n",
    "from selenium.webdriver.support import expected_conditions as EC\n",
    "\n",
    "driver = webdriver.Chrome()\n",
    "try:\n",
    "    driver.get('https://www.tatamotors.com/newsroom/press-releases/')\n",
    "    driver.maximize_window()\n",
    "    \n",
    "    # Correct way - pass locator as a tuple\n",
    "    is_ev_present = WebDriverWait(driver, 10).until(\n",
    "        EC.text_to_be_present_in_element(\n",
    "            (By.TAG_NAME, \"h4\"),  # Note the parentheses making this a single tuple argument\n",
    "            \"EV\"  # Text we're looking for\n",
    "        )\n",
    "    )\n",
    "    print('EV text found in h4 elements')\n",
    "\n",
    "except Exception as e:\n",
    "    print(\"Error occurred:\", str(e))\n",
    "finally:\n",
    "    driver.quit()"
   ]
  },
  {
   "cell_type": "code",
   "execution_count": null,
   "id": "b2f03c81",
   "metadata": {},
   "outputs": [],
   "source": []
  }
 ],
 "metadata": {
  "kernelspec": {
   "display_name": "Python 3",
   "language": "python",
   "name": "python3"
  },
  "language_info": {
   "codemirror_mode": {
    "name": "ipython",
    "version": 3
   },
   "file_extension": ".py",
   "mimetype": "text/x-python",
   "name": "python",
   "nbconvert_exporter": "python",
   "pygments_lexer": "ipython3",
   "version": "3.13.5"
  }
 },
 "nbformat": 4,
 "nbformat_minor": 5
}
