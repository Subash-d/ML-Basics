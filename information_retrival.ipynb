{
 "cells": [
  {
   "cell_type": "code",
   "execution_count": 94,
   "id": "4a98c7c6",
   "metadata": {},
   "outputs": [],
   "source": [
    "from selenium import webdriver\n",
    "from selenium.webdriver.support import expected_conditions as EC\n",
    "from selenium.webdriver.common.by import By\n",
    "from selenium.webdriver.support.ui import WebDriverWait\n",
    "from selenium.webdriver.common.keys import Keys\n",
    "from bs4 import BeautifulSoup\n",
    "from time import sleep"
   ]
  },
  {
   "cell_type": "code",
   "execution_count": 101,
   "id": "a89954fe",
   "metadata": {},
   "outputs": [],
   "source": [
    "target_text = \"Franz Kafka\""
   ]
  },
  {
   "cell_type": "code",
   "execution_count": 102,
   "id": "8370cdcc",
   "metadata": {},
   "outputs": [],
   "source": [
    "try:\n",
    "    url = 'https://www.wikipedia.org/'\n",
    "    driver = webdriver.Chrome()\n",
    "    driver.get(url)\n",
    "    driver.maximize_window()\n",
    "    WebDriverWait(driver, 2).until(EC.element_to_be_clickable((By.ID, \"searchInput\"))).send_keys(target_text)\n",
    "    # WebDriverWait(driver, 3).until(EC.element_to_be_clickable((By.ID, \"searchInput\"))).send_keys(Keys.DOWN)\n",
    "    WebDriverWait(driver, 2).until(EC.element_to_be_clickable((By.XPATH, \"//button[@type='submit']\"))).click()\n",
    "    WebDriverWait(driver, 5).until(EC.presence_of_element_located((By.ID, \"firstHeading\")))\n",
    "    soup = BeautifulSoup(driver.page_source, 'html.parser')\n",
    "\n",
    "except Exception as e:\n",
    "    print(\"Error:\", e)\n",
    "finally:\n",
    "    pass\n",
    "    # driver.quit()"
   ]
  },
  {
   "cell_type": "code",
   "execution_count": 103,
   "id": "24c2dac9",
   "metadata": {},
   "outputs": [
    {
     "name": "stdout",
     "output_type": "stream",
     "text": [
      "Franz Kafka :  Kafka in 1923\n",
      "Born :  (1883-07-03)3 July 1883Prague, Austria-Hungary\n",
      "Died :  3 June 1924(1924-06-03) (aged 40)Klosterneuburg, Austria\n",
      "Burial place :  New Jewish Cemetery, Prague\n",
      "Citizenship :  Austria (until 1918)[a]\n",
      "Czechoslovakia (from 1918)[1][2]\n",
      "Alma mater :  German Charles-Ferdinand University\n",
      "Occupations :  Novelist\n",
      "short story writer\n",
      "insurance officer\n",
      "Works :  List\n",
      "Style :  Modernism\n",
      "Signature :  \n"
     ]
    }
   ],
   "source": [
    "import re\n",
    "\n",
    "target_table = soup.find(\"table\", class_=re.compile(r\"infobox.*vcard\"))\n",
    "\n",
    "for row in target_table.find_all(\"tr\"):\n",
    "    for h in row.find_all(\"th\"):\n",
    "        print(h.text.strip(), \": \", end = \" \")\n",
    "    for d in row.find_all(\"td\"):\n",
    "        print(d.text.strip())"
   ]
  },
  {
   "cell_type": "code",
   "execution_count": null,
   "id": "deac098d",
   "metadata": {},
   "outputs": [],
   "source": []
  }
 ],
 "metadata": {
  "kernelspec": {
   "display_name": "Python 3",
   "language": "python",
   "name": "python3"
  },
  "language_info": {
   "codemirror_mode": {
    "name": "ipython",
    "version": 3
   },
   "file_extension": ".py",
   "mimetype": "text/x-python",
   "name": "python",
   "nbconvert_exporter": "python",
   "pygments_lexer": "ipython3",
   "version": "3.13.5"
  }
 },
 "nbformat": 4,
 "nbformat_minor": 5
}
