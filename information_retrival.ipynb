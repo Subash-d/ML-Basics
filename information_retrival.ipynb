{
 "cells": [
  {
   "cell_type": "code",
   "execution_count": 1,
   "id": "4a98c7c6",
   "metadata": {},
   "outputs": [],
   "source": [
    "from selenium import webdriver\n",
    "from selenium.webdriver.support import expected_conditions as EC\n",
    "from selenium.webdriver.common.by import By\n",
    "from selenium.webdriver.support.ui import WebDriverWait\n",
    "from bs4 import BeautifulSoup\n",
    "from time import sleep"
   ]
  },
  {
   "cell_type": "code",
   "execution_count": 2,
   "id": "a89954fe",
   "metadata": {},
   "outputs": [],
   "source": [
    "target_text = input(\"Enter the name of person: \")"
   ]
  },
  {
   "cell_type": "code",
   "execution_count": null,
   "id": "8370cdcc",
   "metadata": {},
   "outputs": [],
   "source": [
    "try:\n",
    "    url = 'https://www.wikipedia.org/'\n",
    "    driver = webdriver.Chrome()\n",
    "    driver.get(url)\n",
    "    driver.maximize_window()\n",
    "    WebDriverWait(driver, 2).until(EC.element_to_be_clickable((By.ID, \"searchInput\"))).send_keys(target_text)\n",
    "    WebDriverWait(driver, 2).until(EC.element_to_be_clickable((By.XPATH, \"//button[@type='submit']\"))).click()\n",
    "    WebDriverWait(driver, 5).until(EC.presence_of_element_located((By.ID, \"firstHeading\")))\n",
    "    soup = BeautifulSoup(driver.page_source, 'html.parser')\n",
    "\n",
    "except Exception as e:\n",
    "    print(\"Error:\", e)\n",
    "finally:\n",
    "    pass\n",
    "    driver.quit()"
   ]
  },
  {
   "cell_type": "code",
   "execution_count": 4,
   "id": "24c2dac9",
   "metadata": {},
   "outputs": [
    {
     "name": "stdout",
     "output_type": "stream",
     "text": [
      "NetajiSubhas Chandra Bose :  Bose, c. 1930s\n",
      "\n",
      "Leader of Indian National Army[b] :  In office4 July 1943 – 18 August 1945\n",
      "Preceded by :  Mohan Singh and Iwaichi Fujiwara founders of the First Indian National Army\n",
      "Succeeded by :  Office abolished\n",
      "President of the All India Forward Bloc :  In office22 June 1939 – 16 January 1941\n",
      "Preceded by :  Office established\n",
      "Succeeded by :  Sardul Singh Kavishar\n",
      "President of the Indian National Congress :  In office18 January 1938 – 29 April 1939\n",
      "Preceded by :  Jawaharlal Nehru\n",
      "Succeeded by :  Rajendra Prasad\n",
      "5th Mayor of Calcutta :  In office22 August 1930 – 15 April 1931\n",
      "Preceded by :  Jatindra Mohan Sengupta\n",
      "Succeeded by :  Bidhan Chandra Roy\n",
      "\n",
      "Personal details :  Born :  Subhas Chandra Bose(1897-01-23)23 January 1897Cuttack, Bengal Presidency, British India\n",
      "Died :  18 August 1945(1945-08-18) (aged 48)[4][5]Taihoku, Japanese Taiwan\n",
      "Cause of death :  Third-degree burns from aircrash[5]\n",
      "Resting place :  Renkō-ji, Tokyo, Japan\n",
      "Political party :  Indian National CongressAll India Forward Bloc\n",
      "Spouse(s) :  Emilie Schenkl ​(m. 1937)​  (secretly married without ceremony or witnesses, unacknowledged publicly by Bose)[6]\n",
      "Children :  Anita Bose Pfaff\n",
      "Parents :  Janakinath Bose (father)Prabhabati Bose (mother)\n",
      "Education :  Baptist Mission's Protestant European School, Cuttack, 1902–09[7]Ravenshaw Collegiate School, Cuttack, 1909–12[8]Presidency College, Calcutta, 1912–15 February 1916[c][d]Scottish Church College, Calcutta, 20 July 1917–1919Fitzwilliam Hall, Non-Collegiate Students Board, Cambridge, 1919–21.[11][e]\n",
      "Alma mater :  University of Calcutta (B.A., Philosophy, 1919)University of Cambridge (B.A. Mental and Moral Sciences Tripos, 1921.[11])\n",
      "Known for :  Indian independence movement\n",
      "Signature :  \n",
      "\n"
     ]
    }
   ],
   "source": [
    "import re\n",
    "\n",
    "target_table = soup.find(\"table\", class_=re.compile(r\"infobox.*vcard\"))\n",
    "\n",
    "for row in target_table.find_all(\"tr\"):\n",
    "    for h in row.find_all(\"th\"):\n",
    "        print(h.text.strip(), \": \", end = \" \")\n",
    "    for d in row.find_all(\"td\"):\n",
    "        print(d.text.strip())"
   ]
  },
  {
   "cell_type": "code",
   "execution_count": null,
   "id": "deac098d",
   "metadata": {},
   "outputs": [],
   "source": []
  }
 ],
 "metadata": {
  "kernelspec": {
   "display_name": "Python 3",
   "language": "python",
   "name": "python3"
  },
  "language_info": {
   "codemirror_mode": {
    "name": "ipython",
    "version": 3
   },
   "file_extension": ".py",
   "mimetype": "text/x-python",
   "name": "python",
   "nbconvert_exporter": "python",
   "pygments_lexer": "ipython3",
   "version": "3.13.5"
  }
 },
 "nbformat": 4,
 "nbformat_minor": 5
}
