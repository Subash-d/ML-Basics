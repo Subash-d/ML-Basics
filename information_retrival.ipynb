{
 "cells": [
  {
   "cell_type": "code",
   "execution_count": 5,
   "id": "4a98c7c6",
   "metadata": {},
   "outputs": [],
   "source": [
    "from selenium import webdriver\n",
    "from selenium.webdriver.support import expected_conditions as EC\n",
    "from selenium.webdriver.common.by import By\n",
    "from selenium.webdriver.support.ui import WebDriverWait\n",
    "from bs4 import BeautifulSoup\n",
    "from time import sleep"
   ]
  },
  {
   "cell_type": "code",
   "execution_count": 6,
   "id": "a89954fe",
   "metadata": {},
   "outputs": [],
   "source": [
    "target_text = input(\"Enter the name of person: \")"
   ]
  },
  {
   "cell_type": "code",
   "execution_count": 7,
   "id": "8370cdcc",
   "metadata": {},
   "outputs": [],
   "source": [
    "try:\n",
    "    url = 'https://www.wikipedia.org/'\n",
    "    driver = webdriver.Chrome()\n",
    "    driver.get(url)\n",
    "    driver.maximize_window()\n",
    "    WebDriverWait(driver, 2).until(EC.element_to_be_clickable((By.ID, \"searchInput\"))).send_keys(target_text)\n",
    "    WebDriverWait(driver, 2).until(EC.element_to_be_clickable((By.XPATH, \"//button[@type='submit']\"))).click()\n",
    "    WebDriverWait(driver, 5).until(EC.presence_of_element_located((By.ID, \"firstHeading\")))\n",
    "    soup = BeautifulSoup(driver.page_source, 'html.parser')\n",
    "\n",
    "except Exception as e:\n",
    "    print(\"Error:\", e)\n",
    "finally:\n",
    "    pass\n",
    "    driver.quit()"
   ]
  },
  {
   "cell_type": "code",
   "execution_count": 8,
   "id": "24c2dac9",
   "metadata": {},
   "outputs": [
    {
     "name": "stdout",
     "output_type": "stream",
     "text": [
      "Mikhail Tal :  Tal in 1962\n",
      "Full name :  Mikhail Nekhemyevich Tal\n",
      "Country :  Soviet Union (until 1991)Latvia (from 1991)\n",
      "Born :  (1936-11-09)9 November 1936Riga, Latvia\n",
      "Died :  28 June 1992(1992-06-28) (aged 55)[a]Moscow, Russia\n",
      "Title :  Grandmaster (1957)\n",
      "World Champion :  1960–1961\n",
      "Peak rating :  2705 (January 1980)\n",
      "Peak ranking :  No. 2 (January 1980)\n"
     ]
    }
   ],
   "source": [
    "import re\n",
    "\n",
    "target_table = soup.find(\"table\", class_=re.compile(r\"infobox.*vcard\"))\n",
    "\n",
    "for row in target_table.find_all(\"tr\"):\n",
    "    for h in row.find_all(\"th\"):\n",
    "        print(h.text.strip(), \": \", end = \" \")\n",
    "    for d in row.find_all(\"td\"):\n",
    "        print(d.text.strip())"
   ]
  },
  {
   "cell_type": "code",
   "execution_count": null,
   "id": "deac098d",
   "metadata": {},
   "outputs": [],
   "source": []
  }
 ],
 "metadata": {
  "kernelspec": {
   "display_name": "Python 3",
   "language": "python",
   "name": "python3"
  },
  "language_info": {
   "codemirror_mode": {
    "name": "ipython",
    "version": 3
   },
   "file_extension": ".py",
   "mimetype": "text/x-python",
   "name": "python",
   "nbconvert_exporter": "python",
   "pygments_lexer": "ipython3",
   "version": "3.13.5"
  }
 },
 "nbformat": 4,
 "nbformat_minor": 5
}
