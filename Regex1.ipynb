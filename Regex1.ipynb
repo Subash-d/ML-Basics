{
 "cells": [
  {
   "cell_type": "code",
   "execution_count": 191,
   "id": "29c5cb3f",
   "metadata": {},
   "outputs": [],
   "source": [
    "import re\n",
    "import pandas as pd\n",
    "import numpy as np"
   ]
  },
  {
   "cell_type": "code",
   "execution_count": 192,
   "id": "da05b627",
   "metadata": {},
   "outputs": [
    {
     "name": "stdout",
     "output_type": "stream",
     "text": [
      "John Doe met Jane Smith on 2023-05-14, contact: 555-123-4567.\n",
      "Emily called Mark at (555) 987-6543 on 12/11/2022.\n",
      "Meeting scheduled for 2022-08-30, contact: alice@example.com.\n",
      "Call Sarah at 555.321.7654 before 01/01/2024.\n",
      "Email sent to mike@domain.com on 2021-07-22.\n",
      "Lisa's number is 555-000-1111, met her on 10-10-2020.\n",
      "Dinner with Tom at tom@workmail.com on 2022/09/15.\n",
      "Contact Anna (anna.smith@mail.com) before 2023-12-31.\n",
      "Project deadline: 2024-04-01, manager: 555-222-3333.\n",
      "Send report to claire@company.org by 2023-03-10.\n",
      "Interview on 2022-11-05, HR: 555-666-7777.\n",
      "Lunch with Greg at greg@personal.net on 09/09/2021.\n",
      "Call office at 5551238888 on 2023-08-20.\n",
      "Reminder: 2021-12-25, contact: mary.jane@service.com.\n",
      "Conference on 2022/07/18, RSVP: 555.888.9999.\n",
      "Email invitation to paul@invite.com before 2022-10-01.\n",
      "Workshop on 2023-02-14, coordinator: (555) 777-8888.\n",
      "Contact support at support@helpdesk.com on 2024-01-05.\n"
     ]
    }
   ],
   "source": [
    "with open('Datasets/contacts.txt', 'r', encoding='utf-8') as file:\n",
    "    for line in file:\n",
    "        print(line.strip())"
   ]
  },
  {
   "cell_type": "code",
   "execution_count": 193,
   "id": "24d93e75",
   "metadata": {},
   "outputs": [
    {
     "name": "stdout",
     "output_type": "stream",
     "text": [
      "1 555-123-4567\n",
      "2 (555) 987-6543\n",
      "4 555.321.7654\n",
      "6 555-000-1111\n",
      "9 555-222-3333\n",
      "11 555-666-7777\n",
      "13 5551238888\n",
      "15 555.888.9999\n",
      "17 (555) 777-8888\n"
     ]
    }
   ],
   "source": [
    "valid_contacts = []\n",
    "pattern_num = r'\\d{3}-\\d{3}-\\d{4}|\\(\\d{3}\\) \\d{3}-\\d{4}|\\d{3}\\.\\d{3}\\.\\d{4}|\\d{10}'\n",
    "with open('Datasets/contacts.txt','r', encoding='utf-8') as file:\n",
    "    for idx, line in enumerate(file):\n",
    "        match = re.search(pattern_num, line)\n",
    "        if match:\n",
    "            valid_contacts.append(match.group())\n",
    "            print(idx+1 ,match.group())"
   ]
  },
  {
   "cell_type": "code",
   "execution_count": 194,
   "id": "b61bd822",
   "metadata": {},
   "outputs": [
    {
     "data": {
      "application/vnd.microsoft.datawrangler.viewer.v0+json": {
       "columns": [
        {
         "name": "index",
         "rawType": "int64",
         "type": "integer"
        },
        {
         "name": "Phone_num",
         "rawType": "object",
         "type": "string"
        }
       ],
       "ref": "7bd4d877-8ba6-408f-a9f6-bedd85a6c82d",
       "rows": [
        [
         "0",
         "555-123-4567"
        ],
        [
         "1",
         "(555) 987-6543"
        ],
        [
         "2",
         "555.321.7654"
        ],
        [
         "3",
         "555-000-1111"
        ],
        [
         "4",
         "555-222-3333"
        ],
        [
         "5",
         "555-666-7777"
        ],
        [
         "6",
         "5551238888"
        ],
        [
         "7",
         "555.888.9999"
        ],
        [
         "8",
         "(555) 777-8888"
        ]
       ],
       "shape": {
        "columns": 1,
        "rows": 9
       }
      },
      "text/plain": [
       "0      555-123-4567\n",
       "1    (555) 987-6543\n",
       "2      555.321.7654\n",
       "3      555-000-1111\n",
       "4      555-222-3333\n",
       "5      555-666-7777\n",
       "6        5551238888\n",
       "7      555.888.9999\n",
       "8    (555) 777-8888\n",
       "Name: Phone_num, dtype: object"
      ]
     },
     "execution_count": 194,
     "metadata": {},
     "output_type": "execute_result"
    }
   ],
   "source": [
    "ph = pd.Series(valid_contacts, name='Phone_num')\n",
    "ph"
   ]
  },
  {
   "cell_type": "code",
   "execution_count": 195,
   "id": "0138b336",
   "metadata": {},
   "outputs": [],
   "source": [
    "ph = ph.str.strip() "
   ]
  },
  {
   "cell_type": "code",
   "execution_count": 196,
   "id": "307dd908",
   "metadata": {},
   "outputs": [],
   "source": [
    "ph = ph.str.replace(r'\\D', '', regex=True)\n"
   ]
  },
  {
   "cell_type": "code",
   "execution_count": 197,
   "id": "112025ee",
   "metadata": {},
   "outputs": [
    {
     "data": {
      "application/vnd.microsoft.datawrangler.viewer.v0+json": {
       "columns": [
        {
         "name": "index",
         "rawType": "int64",
         "type": "integer"
        },
        {
         "name": "Phone_num",
         "rawType": "object",
         "type": "string"
        }
       ],
       "ref": "91283982-9050-4009-9799-9254bd286edb",
       "rows": [
        [
         "0",
         "5551234567"
        ],
        [
         "1",
         "5559876543"
        ],
        [
         "2",
         "5553217654"
        ],
        [
         "3",
         "5550001111"
        ],
        [
         "4",
         "5552223333"
        ],
        [
         "5",
         "5556667777"
        ],
        [
         "6",
         "5551238888"
        ],
        [
         "7",
         "5558889999"
        ],
        [
         "8",
         "5557778888"
        ]
       ],
       "shape": {
        "columns": 1,
        "rows": 9
       }
      },
      "text/plain": [
       "0    5551234567\n",
       "1    5559876543\n",
       "2    5553217654\n",
       "3    5550001111\n",
       "4    5552223333\n",
       "5    5556667777\n",
       "6    5551238888\n",
       "7    5558889999\n",
       "8    5557778888\n",
       "Name: Phone_num, dtype: object"
      ]
     },
     "execution_count": 197,
     "metadata": {},
     "output_type": "execute_result"
    }
   ],
   "source": [
    "ph"
   ]
  },
  {
   "cell_type": "code",
   "execution_count": 198,
   "id": "845147a2",
   "metadata": {},
   "outputs": [
    {
     "name": "stdout",
     "output_type": "stream",
     "text": [
      "alice@example.com\n",
      "mike@domain.com\n",
      "tom@workmail.com\n",
      "anna.smith@mail.com\n",
      "claire@company.org\n",
      "greg@personal.net\n",
      "mary.jane@service.com\n",
      "paul@invite.com\n",
      "support@helpdesk.com\n"
     ]
    }
   ],
   "source": [
    "email = []\n",
    "pattern_email = r\"[._a-zA-Z0-9_]*@[a-zA-Z0-9_]*.[a-zA-z]*\"\n",
    "with open('Datasets/contacts.txt', 'r', encoding='utf-8') as file:\n",
    "    for line in file:\n",
    "        mail = re.findall(pattern_email, line)\n",
    "        for mail in mail:\n",
    "            email.append(mail)\n",
    "            print(mail)"
   ]
  },
  {
   "cell_type": "code",
   "execution_count": 199,
   "id": "12a763f3",
   "metadata": {},
   "outputs": [
    {
     "data": {
      "application/vnd.microsoft.datawrangler.viewer.v0+json": {
       "columns": [
        {
         "name": "index",
         "rawType": "int64",
         "type": "integer"
        },
        {
         "name": "Contact_info",
         "rawType": "object",
         "type": "string"
        }
       ],
       "ref": "34cf6b41-2837-4d0e-88fa-1392f4d7e81a",
       "rows": [
        [
         "0",
         "5551234567"
        ],
        [
         "1",
         "5559876543"
        ],
        [
         "2",
         "5553217654"
        ],
        [
         "3",
         "5550001111"
        ],
        [
         "4",
         "5552223333"
        ],
        [
         "5",
         "5556667777"
        ],
        [
         "6",
         "5551238888"
        ],
        [
         "7",
         "5558889999"
        ],
        [
         "8",
         "5557778888"
        ],
        [
         "9",
         "alice@example.com"
        ],
        [
         "10",
         "mike@domain.com"
        ],
        [
         "11",
         "tom@workmail.com"
        ],
        [
         "12",
         "anna.smith@mail.com"
        ],
        [
         "13",
         "claire@company.org"
        ],
        [
         "14",
         "greg@personal.net"
        ],
        [
         "15",
         "mary.jane@service.com"
        ],
        [
         "16",
         "paul@invite.com"
        ],
        [
         "17",
         "support@helpdesk.com"
        ]
       ],
       "shape": {
        "columns": 1,
        "rows": 18
       }
      },
      "text/plain": [
       "0                5551234567\n",
       "1                5559876543\n",
       "2                5553217654\n",
       "3                5550001111\n",
       "4                5552223333\n",
       "5                5556667777\n",
       "6                5551238888\n",
       "7                5558889999\n",
       "8                5557778888\n",
       "9         alice@example.com\n",
       "10          mike@domain.com\n",
       "11         tom@workmail.com\n",
       "12      anna.smith@mail.com\n",
       "13       claire@company.org\n",
       "14        greg@personal.net\n",
       "15    mary.jane@service.com\n",
       "16          paul@invite.com\n",
       "17     support@helpdesk.com\n",
       "Name: Contact_info, dtype: object"
      ]
     },
     "execution_count": 199,
     "metadata": {},
     "output_type": "execute_result"
    }
   ],
   "source": [
    "contact_info = pd.concat([ph, pd.Series(email)], ignore_index=True).rename('Contact_info')\n",
    "contact_info"
   ]
  },
  {
   "cell_type": "code",
   "execution_count": 200,
   "id": "fc4b0ce2",
   "metadata": {},
   "outputs": [
    {
     "name": "stdout",
     "output_type": "stream",
     "text": [
      "0 ['2023-05-14']\n",
      "1 ['12/11/2022']\n",
      "2 ['2022-08-30']\n",
      "3 ['01/01/2024']\n",
      "4 ['2021-07-22']\n",
      "5 ['10-10-2020']\n",
      "6 ['2022/09/15']\n",
      "7 ['2023-12-31']\n",
      "8 ['2024-04-01']\n",
      "9 ['2023-03-10']\n",
      "10 ['2022-11-05']\n",
      "11 ['09/09/2021']\n",
      "12 ['2023-08-20']\n",
      "13 ['2021-12-25']\n",
      "14 ['2022/07/18']\n",
      "15 ['2022-10-01']\n",
      "16 ['2023-02-14']\n",
      "17 ['2024-01-05']\n"
     ]
    }
   ],
   "source": [
    "date = []\n",
    "pattern_date = r\"\\d{2}[^\\d]\\d{2}[^\\d]\\d{4}|\\d{4}[^\\d]\\d{2}[^\\d]\\d{2}\"\n",
    "with open('Datasets/contacts.txt') as f:\n",
    "    for idx, line in enumerate(f):\n",
    "        date_match = re.findall(pattern_date, line)\n",
    "        if date_match:\n",
    "            date.extend(date_match)\n",
    "            print(idx,date_match)"
   ]
  },
  {
   "cell_type": "code",
   "execution_count": 201,
   "id": "8d06bbe8",
   "metadata": {},
   "outputs": [],
   "source": [
    "cleaned_dates = []  \n",
    "for idx, i in enumerate(date):\n",
    "    i = i.strip()\n",
    "    i = pd.to_datetime(i, errors='coerce')\n",
    "    cleaned_dates.append(i)"
   ]
  },
  {
   "cell_type": "code",
   "execution_count": 202,
   "id": "d075b819",
   "metadata": {},
   "outputs": [],
   "source": [
    "df = pd.DataFrame({ 'date': cleaned_dates, 'contact_info': contact_info })"
   ]
  },
  {
   "cell_type": "code",
   "execution_count": 203,
   "id": "1f6af32c",
   "metadata": {},
   "outputs": [
    {
     "data": {
      "application/vnd.microsoft.datawrangler.viewer.v0+json": {
       "columns": [
        {
         "name": "index",
         "rawType": "int64",
         "type": "integer"
        },
        {
         "name": "date",
         "rawType": "datetime64[ns]",
         "type": "datetime"
        },
        {
         "name": "contact_info",
         "rawType": "object",
         "type": "string"
        }
       ],
       "ref": "036cd6e8-38a3-436e-8dab-ac1517d43269",
       "rows": [
        [
         "0",
         "2023-05-14 00:00:00",
         "5551234567"
        ],
        [
         "1",
         "2022-12-11 00:00:00",
         "5559876543"
        ],
        [
         "2",
         "2022-08-30 00:00:00",
         "5553217654"
        ],
        [
         "3",
         "2024-01-01 00:00:00",
         "5550001111"
        ],
        [
         "4",
         "2021-07-22 00:00:00",
         "5552223333"
        ],
        [
         "5",
         "2020-10-10 00:00:00",
         "5556667777"
        ],
        [
         "6",
         "2022-09-15 00:00:00",
         "5551238888"
        ],
        [
         "7",
         "2023-12-31 00:00:00",
         "5558889999"
        ],
        [
         "8",
         "2024-04-01 00:00:00",
         "5557778888"
        ],
        [
         "9",
         "2023-03-10 00:00:00",
         "alice@example.com"
        ],
        [
         "10",
         "2022-11-05 00:00:00",
         "mike@domain.com"
        ],
        [
         "11",
         "2021-09-09 00:00:00",
         "tom@workmail.com"
        ],
        [
         "12",
         "2023-08-20 00:00:00",
         "anna.smith@mail.com"
        ],
        [
         "13",
         "2021-12-25 00:00:00",
         "claire@company.org"
        ],
        [
         "14",
         "2022-07-18 00:00:00",
         "greg@personal.net"
        ],
        [
         "15",
         "2022-10-01 00:00:00",
         "mary.jane@service.com"
        ],
        [
         "16",
         "2023-02-14 00:00:00",
         "paul@invite.com"
        ],
        [
         "17",
         "2024-01-05 00:00:00",
         "support@helpdesk.com"
        ]
       ],
       "shape": {
        "columns": 2,
        "rows": 18
       }
      },
      "text/html": [
       "<div>\n",
       "<style scoped>\n",
       "    .dataframe tbody tr th:only-of-type {\n",
       "        vertical-align: middle;\n",
       "    }\n",
       "\n",
       "    .dataframe tbody tr th {\n",
       "        vertical-align: top;\n",
       "    }\n",
       "\n",
       "    .dataframe thead th {\n",
       "        text-align: right;\n",
       "    }\n",
       "</style>\n",
       "<table border=\"1\" class=\"dataframe\">\n",
       "  <thead>\n",
       "    <tr style=\"text-align: right;\">\n",
       "      <th></th>\n",
       "      <th>date</th>\n",
       "      <th>contact_info</th>\n",
       "    </tr>\n",
       "  </thead>\n",
       "  <tbody>\n",
       "    <tr>\n",
       "      <th>0</th>\n",
       "      <td>2023-05-14</td>\n",
       "      <td>5551234567</td>\n",
       "    </tr>\n",
       "    <tr>\n",
       "      <th>1</th>\n",
       "      <td>2022-12-11</td>\n",
       "      <td>5559876543</td>\n",
       "    </tr>\n",
       "    <tr>\n",
       "      <th>2</th>\n",
       "      <td>2022-08-30</td>\n",
       "      <td>5553217654</td>\n",
       "    </tr>\n",
       "    <tr>\n",
       "      <th>3</th>\n",
       "      <td>2024-01-01</td>\n",
       "      <td>5550001111</td>\n",
       "    </tr>\n",
       "    <tr>\n",
       "      <th>4</th>\n",
       "      <td>2021-07-22</td>\n",
       "      <td>5552223333</td>\n",
       "    </tr>\n",
       "    <tr>\n",
       "      <th>5</th>\n",
       "      <td>2020-10-10</td>\n",
       "      <td>5556667777</td>\n",
       "    </tr>\n",
       "    <tr>\n",
       "      <th>6</th>\n",
       "      <td>2022-09-15</td>\n",
       "      <td>5551238888</td>\n",
       "    </tr>\n",
       "    <tr>\n",
       "      <th>7</th>\n",
       "      <td>2023-12-31</td>\n",
       "      <td>5558889999</td>\n",
       "    </tr>\n",
       "    <tr>\n",
       "      <th>8</th>\n",
       "      <td>2024-04-01</td>\n",
       "      <td>5557778888</td>\n",
       "    </tr>\n",
       "    <tr>\n",
       "      <th>9</th>\n",
       "      <td>2023-03-10</td>\n",
       "      <td>alice@example.com</td>\n",
       "    </tr>\n",
       "    <tr>\n",
       "      <th>10</th>\n",
       "      <td>2022-11-05</td>\n",
       "      <td>mike@domain.com</td>\n",
       "    </tr>\n",
       "    <tr>\n",
       "      <th>11</th>\n",
       "      <td>2021-09-09</td>\n",
       "      <td>tom@workmail.com</td>\n",
       "    </tr>\n",
       "    <tr>\n",
       "      <th>12</th>\n",
       "      <td>2023-08-20</td>\n",
       "      <td>anna.smith@mail.com</td>\n",
       "    </tr>\n",
       "    <tr>\n",
       "      <th>13</th>\n",
       "      <td>2021-12-25</td>\n",
       "      <td>claire@company.org</td>\n",
       "    </tr>\n",
       "    <tr>\n",
       "      <th>14</th>\n",
       "      <td>2022-07-18</td>\n",
       "      <td>greg@personal.net</td>\n",
       "    </tr>\n",
       "    <tr>\n",
       "      <th>15</th>\n",
       "      <td>2022-10-01</td>\n",
       "      <td>mary.jane@service.com</td>\n",
       "    </tr>\n",
       "    <tr>\n",
       "      <th>16</th>\n",
       "      <td>2023-02-14</td>\n",
       "      <td>paul@invite.com</td>\n",
       "    </tr>\n",
       "    <tr>\n",
       "      <th>17</th>\n",
       "      <td>2024-01-05</td>\n",
       "      <td>support@helpdesk.com</td>\n",
       "    </tr>\n",
       "  </tbody>\n",
       "</table>\n",
       "</div>"
      ],
      "text/plain": [
       "         date           contact_info\n",
       "0  2023-05-14             5551234567\n",
       "1  2022-12-11             5559876543\n",
       "2  2022-08-30             5553217654\n",
       "3  2024-01-01             5550001111\n",
       "4  2021-07-22             5552223333\n",
       "5  2020-10-10             5556667777\n",
       "6  2022-09-15             5551238888\n",
       "7  2023-12-31             5558889999\n",
       "8  2024-04-01             5557778888\n",
       "9  2023-03-10      alice@example.com\n",
       "10 2022-11-05        mike@domain.com\n",
       "11 2021-09-09       tom@workmail.com\n",
       "12 2023-08-20    anna.smith@mail.com\n",
       "13 2021-12-25     claire@company.org\n",
       "14 2022-07-18      greg@personal.net\n",
       "15 2022-10-01  mary.jane@service.com\n",
       "16 2023-02-14        paul@invite.com\n",
       "17 2024-01-05   support@helpdesk.com"
      ]
     },
     "execution_count": 203,
     "metadata": {},
     "output_type": "execute_result"
    }
   ],
   "source": [
    "df"
   ]
  },
  {
   "cell_type": "code",
   "execution_count": null,
   "id": "66f2b4f5",
   "metadata": {},
   "outputs": [],
   "source": []
  }
 ],
 "metadata": {
  "kernelspec": {
   "display_name": "Python 3",
   "language": "python",
   "name": "python3"
  },
  "language_info": {
   "codemirror_mode": {
    "name": "ipython",
    "version": 3
   },
   "file_extension": ".py",
   "mimetype": "text/x-python",
   "name": "python",
   "nbconvert_exporter": "python",
   "pygments_lexer": "ipython3",
   "version": "3.13.5"
  }
 },
 "nbformat": 4,
 "nbformat_minor": 5
}
