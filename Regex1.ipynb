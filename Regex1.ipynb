{
 "cells": [
  {
   "cell_type": "code",
   "execution_count": 45,
   "id": "29c5cb3f",
   "metadata": {},
   "outputs": [],
   "source": [
    "import re\n",
    "import pandas as pd"
   ]
  },
  {
   "cell_type": "code",
   "execution_count": 46,
   "id": "da05b627",
   "metadata": {},
   "outputs": [
    {
     "name": "stdout",
     "output_type": "stream",
     "text": [
      "1. John called on 12-05-2023 using phone +1-202-555-0198.\n",
      "2. Maria registered on 03/11/2021 with number (415) 555-2671.\n",
      "3. Order placed by David at 2023-07-14, contact: 9876543210.\n",
      "4. Meeting scheduled on 15-Aug-2022, reach out: +44 7700 900123.\n",
      "5. Priya’s ticket confirmed on 21.09.2020, phone: 080-12345678.\n",
      "6. Invoice generated for Alex on 2022/10/05, mobile: 99999-88888.\n",
      "7. Appointment on Dec 05, 2021, contact via 123-456-7890.\n",
      "8. Rahul updated profile on 17/03/2023, phone: +91-98765-43210.\n",
      "9. Sarah joined on 2001-04-30, call at (212)555-3456.\n",
      "10. Payment received 25-12-2019, contact: 001-541-754-3010.\n",
      "11. Emily’s subscription started on 2023/01/15, phone: +1 (650) 555-1234.\n",
      "12. Daniel’s query logged on 2022-11-30, reach him at 555-0123.\n",
      "13. Jessica’s feedback received on 2023-02-20, contact: (415) 555-7890.\n",
      "14. Kevin’s issue reported on 2023-03-15, phone: +1-202-555-0199.\n"
     ]
    }
   ],
   "source": [
    "with open('Datasets/contacts.txt', 'r', encoding='utf-8') as file:\n",
    "    for line in file:\n",
    "        print(line.strip())"
   ]
  },
  {
   "cell_type": "code",
   "execution_count": 47,
   "id": "24d93e75",
   "metadata": {},
   "outputs": [
    {
     "name": "stdout",
     "output_type": "stream",
     "text": [
      "1 202-555-0198\n",
      "2 (415) 555-2671\n",
      "3 9876543210\n",
      "4  7700 900123\n",
      "5 080-12345678\n",
      "6 99999-88888\n",
      "7 123-456-7890\n",
      "8 98765-43210\n",
      "9 (212)555-3456\n",
      "10 541-754-3010\n",
      "11 (650) 555-1234\n",
      "13 (415) 555-7890\n",
      "14 202-555-0199\n"
     ]
    }
   ],
   "source": [
    "valid_contacts = []\n",
    "pattern = r'\\d{10}|\\d{5}-\\d{5}|(\\d{3})-(\\d{3})-(\\d{4})|\\(\\d{3}\\) \\d{3}-\\d{4}| \\d{4} \\d{6}|\\d{3}-\\d{8}|\\(\\d{3}\\)\\d{3}-\\d{4}'\n",
    "with open('Datasets/contacts.txt','r', encoding='utf-8') as file:\n",
    "    for idx, line in enumerate(file):\n",
    "        match = re.search(pattern, line)\n",
    "        if match:\n",
    "            valid_contacts.append(match.group())\n",
    "            print(idx+1 ,match.group())"
   ]
  },
  {
   "cell_type": "code",
   "execution_count": 48,
   "id": "b61bd822",
   "metadata": {},
   "outputs": [
    {
     "data": {
      "application/vnd.microsoft.datawrangler.viewer.v0+json": {
       "columns": [
        {
         "name": "index",
         "rawType": "int64",
         "type": "integer"
        },
        {
         "name": "Phone_num",
         "rawType": "object",
         "type": "string"
        }
       ],
       "ref": "2b6838c1-3397-427b-a27d-9646bb1510ce",
       "rows": [
        [
         "0",
         "202-555-0198"
        ],
        [
         "1",
         "(415) 555-2671"
        ],
        [
         "2",
         "9876543210"
        ],
        [
         "3",
         " 7700 900123"
        ],
        [
         "4",
         "080-12345678"
        ],
        [
         "5",
         "99999-88888"
        ],
        [
         "6",
         "123-456-7890"
        ],
        [
         "7",
         "98765-43210"
        ],
        [
         "8",
         "(212)555-3456"
        ],
        [
         "9",
         "541-754-3010"
        ],
        [
         "10",
         "(650) 555-1234"
        ],
        [
         "11",
         "(415) 555-7890"
        ],
        [
         "12",
         "202-555-0199"
        ]
       ],
       "shape": {
        "columns": 1,
        "rows": 13
       }
      },
      "text/html": [
       "<div>\n",
       "<style scoped>\n",
       "    .dataframe tbody tr th:only-of-type {\n",
       "        vertical-align: middle;\n",
       "    }\n",
       "\n",
       "    .dataframe tbody tr th {\n",
       "        vertical-align: top;\n",
       "    }\n",
       "\n",
       "    .dataframe thead th {\n",
       "        text-align: right;\n",
       "    }\n",
       "</style>\n",
       "<table border=\"1\" class=\"dataframe\">\n",
       "  <thead>\n",
       "    <tr style=\"text-align: right;\">\n",
       "      <th></th>\n",
       "      <th>Phone_num</th>\n",
       "    </tr>\n",
       "  </thead>\n",
       "  <tbody>\n",
       "    <tr>\n",
       "      <th>0</th>\n",
       "      <td>202-555-0198</td>\n",
       "    </tr>\n",
       "    <tr>\n",
       "      <th>1</th>\n",
       "      <td>(415) 555-2671</td>\n",
       "    </tr>\n",
       "    <tr>\n",
       "      <th>2</th>\n",
       "      <td>9876543210</td>\n",
       "    </tr>\n",
       "    <tr>\n",
       "      <th>3</th>\n",
       "      <td>7700 900123</td>\n",
       "    </tr>\n",
       "    <tr>\n",
       "      <th>4</th>\n",
       "      <td>080-12345678</td>\n",
       "    </tr>\n",
       "    <tr>\n",
       "      <th>5</th>\n",
       "      <td>99999-88888</td>\n",
       "    </tr>\n",
       "    <tr>\n",
       "      <th>6</th>\n",
       "      <td>123-456-7890</td>\n",
       "    </tr>\n",
       "    <tr>\n",
       "      <th>7</th>\n",
       "      <td>98765-43210</td>\n",
       "    </tr>\n",
       "    <tr>\n",
       "      <th>8</th>\n",
       "      <td>(212)555-3456</td>\n",
       "    </tr>\n",
       "    <tr>\n",
       "      <th>9</th>\n",
       "      <td>541-754-3010</td>\n",
       "    </tr>\n",
       "    <tr>\n",
       "      <th>10</th>\n",
       "      <td>(650) 555-1234</td>\n",
       "    </tr>\n",
       "    <tr>\n",
       "      <th>11</th>\n",
       "      <td>(415) 555-7890</td>\n",
       "    </tr>\n",
       "    <tr>\n",
       "      <th>12</th>\n",
       "      <td>202-555-0199</td>\n",
       "    </tr>\n",
       "  </tbody>\n",
       "</table>\n",
       "</div>"
      ],
      "text/plain": [
       "         Phone_num\n",
       "0     202-555-0198\n",
       "1   (415) 555-2671\n",
       "2       9876543210\n",
       "3      7700 900123\n",
       "4     080-12345678\n",
       "5      99999-88888\n",
       "6     123-456-7890\n",
       "7      98765-43210\n",
       "8    (212)555-3456\n",
       "9     541-754-3010\n",
       "10  (650) 555-1234\n",
       "11  (415) 555-7890\n",
       "12    202-555-0199"
      ]
     },
     "execution_count": 48,
     "metadata": {},
     "output_type": "execute_result"
    }
   ],
   "source": [
    "df = pd.DataFrame(valid_contacts,columns=['Phone_num'])\n",
    "df"
   ]
  },
  {
   "cell_type": "code",
   "execution_count": 49,
   "id": "0138b336",
   "metadata": {},
   "outputs": [],
   "source": [
    "df['Phone_num'] = df['Phone_num'].str.strip()"
   ]
  },
  {
   "cell_type": "code",
   "execution_count": null,
   "id": "307dd908",
   "metadata": {},
   "outputs": [],
   "source": [
    "df['Phone_num'] = df['Phone_num'].str.replace(r'\\D', '', regex=True)\n"
   ]
  },
  {
   "cell_type": "code",
   "execution_count": 51,
   "id": "59f4b81c",
   "metadata": {},
   "outputs": [
    {
     "data": {
      "application/vnd.microsoft.datawrangler.viewer.v0+json": {
       "columns": [
        {
         "name": "index",
         "rawType": "int64",
         "type": "integer"
        },
        {
         "name": "Phone_num",
         "rawType": "object",
         "type": "string"
        }
       ],
       "ref": "d0ac773b-1a2b-4f10-bf61-171860ae75d1",
       "rows": [
        [
         "0",
         "2025550198"
        ],
        [
         "1",
         "4155552671"
        ],
        [
         "2",
         "9876543210"
        ],
        [
         "3",
         "7700900123"
        ],
        [
         "4",
         "08012345678"
        ]
       ],
       "shape": {
        "columns": 1,
        "rows": 5
       }
      },
      "text/html": [
       "<div>\n",
       "<style scoped>\n",
       "    .dataframe tbody tr th:only-of-type {\n",
       "        vertical-align: middle;\n",
       "    }\n",
       "\n",
       "    .dataframe tbody tr th {\n",
       "        vertical-align: top;\n",
       "    }\n",
       "\n",
       "    .dataframe thead th {\n",
       "        text-align: right;\n",
       "    }\n",
       "</style>\n",
       "<table border=\"1\" class=\"dataframe\">\n",
       "  <thead>\n",
       "    <tr style=\"text-align: right;\">\n",
       "      <th></th>\n",
       "      <th>Phone_num</th>\n",
       "    </tr>\n",
       "  </thead>\n",
       "  <tbody>\n",
       "    <tr>\n",
       "      <th>0</th>\n",
       "      <td>2025550198</td>\n",
       "    </tr>\n",
       "    <tr>\n",
       "      <th>1</th>\n",
       "      <td>4155552671</td>\n",
       "    </tr>\n",
       "    <tr>\n",
       "      <th>2</th>\n",
       "      <td>9876543210</td>\n",
       "    </tr>\n",
       "    <tr>\n",
       "      <th>3</th>\n",
       "      <td>7700900123</td>\n",
       "    </tr>\n",
       "    <tr>\n",
       "      <th>4</th>\n",
       "      <td>08012345678</td>\n",
       "    </tr>\n",
       "  </tbody>\n",
       "</table>\n",
       "</div>"
      ],
      "text/plain": [
       "     Phone_num\n",
       "0   2025550198\n",
       "1   4155552671\n",
       "2   9876543210\n",
       "3   7700900123\n",
       "4  08012345678"
      ]
     },
     "execution_count": 51,
     "metadata": {},
     "output_type": "execute_result"
    }
   ],
   "source": [
    "df.head()"
   ]
  },
  {
   "cell_type": "code",
   "execution_count": 52,
   "id": "f7a0a487",
   "metadata": {},
   "outputs": [],
   "source": [
    "df['Phone_num'] = df['Phone_num'].str.extract(r'(\\d{10})$')"
   ]
  },
  {
   "cell_type": "code",
   "execution_count": 53,
   "id": "112025ee",
   "metadata": {},
   "outputs": [
    {
     "data": {
      "application/vnd.microsoft.datawrangler.viewer.v0+json": {
       "columns": [
        {
         "name": "index",
         "rawType": "int64",
         "type": "integer"
        },
        {
         "name": "Phone_num",
         "rawType": "object",
         "type": "string"
        }
       ],
       "ref": "a5978b97-232c-469d-881a-491a7a3adf34",
       "rows": [
        [
         "0",
         "2025550198"
        ],
        [
         "1",
         "4155552671"
        ],
        [
         "2",
         "9876543210"
        ],
        [
         "3",
         "7700900123"
        ],
        [
         "4",
         "8012345678"
        ],
        [
         "5",
         "9999988888"
        ],
        [
         "6",
         "1234567890"
        ],
        [
         "7",
         "9876543210"
        ],
        [
         "8",
         "2125553456"
        ],
        [
         "9",
         "5417543010"
        ],
        [
         "10",
         "6505551234"
        ],
        [
         "11",
         "4155557890"
        ],
        [
         "12",
         "2025550199"
        ]
       ],
       "shape": {
        "columns": 1,
        "rows": 13
       }
      },
      "text/html": [
       "<div>\n",
       "<style scoped>\n",
       "    .dataframe tbody tr th:only-of-type {\n",
       "        vertical-align: middle;\n",
       "    }\n",
       "\n",
       "    .dataframe tbody tr th {\n",
       "        vertical-align: top;\n",
       "    }\n",
       "\n",
       "    .dataframe thead th {\n",
       "        text-align: right;\n",
       "    }\n",
       "</style>\n",
       "<table border=\"1\" class=\"dataframe\">\n",
       "  <thead>\n",
       "    <tr style=\"text-align: right;\">\n",
       "      <th></th>\n",
       "      <th>Phone_num</th>\n",
       "    </tr>\n",
       "  </thead>\n",
       "  <tbody>\n",
       "    <tr>\n",
       "      <th>0</th>\n",
       "      <td>2025550198</td>\n",
       "    </tr>\n",
       "    <tr>\n",
       "      <th>1</th>\n",
       "      <td>4155552671</td>\n",
       "    </tr>\n",
       "    <tr>\n",
       "      <th>2</th>\n",
       "      <td>9876543210</td>\n",
       "    </tr>\n",
       "    <tr>\n",
       "      <th>3</th>\n",
       "      <td>7700900123</td>\n",
       "    </tr>\n",
       "    <tr>\n",
       "      <th>4</th>\n",
       "      <td>8012345678</td>\n",
       "    </tr>\n",
       "    <tr>\n",
       "      <th>5</th>\n",
       "      <td>9999988888</td>\n",
       "    </tr>\n",
       "    <tr>\n",
       "      <th>6</th>\n",
       "      <td>1234567890</td>\n",
       "    </tr>\n",
       "    <tr>\n",
       "      <th>7</th>\n",
       "      <td>9876543210</td>\n",
       "    </tr>\n",
       "    <tr>\n",
       "      <th>8</th>\n",
       "      <td>2125553456</td>\n",
       "    </tr>\n",
       "    <tr>\n",
       "      <th>9</th>\n",
       "      <td>5417543010</td>\n",
       "    </tr>\n",
       "    <tr>\n",
       "      <th>10</th>\n",
       "      <td>6505551234</td>\n",
       "    </tr>\n",
       "    <tr>\n",
       "      <th>11</th>\n",
       "      <td>4155557890</td>\n",
       "    </tr>\n",
       "    <tr>\n",
       "      <th>12</th>\n",
       "      <td>2025550199</td>\n",
       "    </tr>\n",
       "  </tbody>\n",
       "</table>\n",
       "</div>"
      ],
      "text/plain": [
       "     Phone_num\n",
       "0   2025550198\n",
       "1   4155552671\n",
       "2   9876543210\n",
       "3   7700900123\n",
       "4   8012345678\n",
       "5   9999988888\n",
       "6   1234567890\n",
       "7   9876543210\n",
       "8   2125553456\n",
       "9   5417543010\n",
       "10  6505551234\n",
       "11  4155557890\n",
       "12  2025550199"
      ]
     },
     "execution_count": 53,
     "metadata": {},
     "output_type": "execute_result"
    }
   ],
   "source": [
    "df"
   ]
  },
  {
   "cell_type": "code",
   "execution_count": null,
   "id": "845147a2",
   "metadata": {},
   "outputs": [],
   "source": []
  }
 ],
 "metadata": {
  "kernelspec": {
   "display_name": "Python 3",
   "language": "python",
   "name": "python3"
  },
  "language_info": {
   "codemirror_mode": {
    "name": "ipython",
    "version": 3
   },
   "file_extension": ".py",
   "mimetype": "text/x-python",
   "name": "python",
   "nbconvert_exporter": "python",
   "pygments_lexer": "ipython3",
   "version": "3.13.5"
  }
 },
 "nbformat": 4,
 "nbformat_minor": 5
}
