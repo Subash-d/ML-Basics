{
 "cells": [
  {
   "cell_type": "code",
   "execution_count": 37,
   "id": "29c5cb3f",
   "metadata": {},
   "outputs": [],
   "source": [
    "import re\n",
    "import pandas as pd"
   ]
  },
  {
   "cell_type": "code",
   "execution_count": 38,
   "id": "da05b627",
   "metadata": {},
   "outputs": [
    {
     "name": "stdout",
     "output_type": "stream",
     "text": [
      "John Doe met Jane Smith on 2023-05-14, contact: 555-123-4567.\n",
      "Emily called Mark at (555) 987-6543 on 12/11/2022.\n",
      "Meeting scheduled for 2022-08-30, contact: alice@example.com.\n",
      "Call Sarah at 555.321.7654 before 01/01/2024.\n",
      "Appointment with Dr. Brown on March 3, 2023, phone: 555-654-3210.\n",
      "Email sent to mike@domain.com on 2021-07-22.\n",
      "Lisa's number is 555-000-1111, met her on 10-10-2020.\n",
      "Dinner with Tom at tom@workmail.com on 2022/09/15.\n",
      "Contact Anna (anna.smith@mail.com) before 2023-12-31.\n",
      "Project deadline: 2024-04-01, manager: 555-222-3333.\n",
      "Meeting with Bob on 15th June 2022, phone: (555) 444-5555.\n",
      "Send report to claire@company.org by 2023-03-10.\n",
      "Interview on 2022-11-05, HR: 555-666-7777.\n",
      "Lunch with Greg at greg@personal.net on 09/09/2021.\n",
      "Call office at 5551238888 on 2023-08-20.\n",
      "Reminder: 2021-12-25, contact: mary.jane@service.com.\n",
      "Conference on 2022/07/18, RSVP: 555.888.9999.\n",
      "Email invitation to paul@invite.com before 2022-10-01.\n",
      "Workshop on 2023-02-14, coordinator: (555) 777-8888.\n",
      "Contact support at support@helpdesk.com on 2024-01-05.\n"
     ]
    }
   ],
   "source": [
    "with open('Datasets/contacts.txt', 'r', encoding='utf-8') as file:\n",
    "    for line in file:\n",
    "        print(line.strip())"
   ]
  },
  {
   "cell_type": "code",
   "execution_count": 47,
   "id": "24d93e75",
   "metadata": {},
   "outputs": [
    {
     "name": "stdout",
     "output_type": "stream",
     "text": [
      "1 555-123-4567\n",
      "2 (555) 987-6543\n",
      "4 555.321.7654\n",
      "5 555-654-3210\n",
      "7 555-000-1111\n",
      "10 555-222-3333\n",
      "11 (555) 444-5555\n",
      "13 555-666-7777\n",
      "17 555.888.9999\n",
      "19 (555) 777-8888\n"
     ]
    }
   ],
   "source": [
    "valid_contacts = []\n",
    "pattern = r'\\d{3}-\\d{3}-\\d{4}|\\(\\d{3}\\) \\d{3}-\\d{4}|\\d{3}\\.\\d{3}\\.\\d{4}'\n",
    "with open('Datasets/contacts.txt','r', encoding='utf-8') as file:\n",
    "    for idx, line in enumerate(file):\n",
    "        match = re.search(pattern, line)\n",
    "        if match:\n",
    "            valid_contacts.append(match.group())\n",
    "            print(idx+1 ,match.group())"
   ]
  },
  {
   "cell_type": "code",
   "execution_count": 40,
   "id": "b61bd822",
   "metadata": {},
   "outputs": [
    {
     "data": {
      "application/vnd.microsoft.datawrangler.viewer.v0+json": {
       "columns": [
        {
         "name": "index",
         "rawType": "int64",
         "type": "integer"
        },
        {
         "name": "Phone_num",
         "rawType": "object",
         "type": "string"
        }
       ],
       "ref": "10c47112-aeb8-4333-a719-d3ab203ec300",
       "rows": [
        [
         "0",
         "555-123-4567"
        ],
        [
         "1",
         "(555) 987-6543"
        ],
        [
         "2",
         "555-654-3210"
        ],
        [
         "3",
         "555-000-1111"
        ],
        [
         "4",
         "555-222-3333"
        ],
        [
         "5",
         "(555) 444-5555"
        ],
        [
         "6",
         "555-666-7777"
        ],
        [
         "7",
         "5551238888"
        ],
        [
         "8",
         "(555) 777-8888"
        ]
       ],
       "shape": {
        "columns": 1,
        "rows": 9
       }
      },
      "text/html": [
       "<div>\n",
       "<style scoped>\n",
       "    .dataframe tbody tr th:only-of-type {\n",
       "        vertical-align: middle;\n",
       "    }\n",
       "\n",
       "    .dataframe tbody tr th {\n",
       "        vertical-align: top;\n",
       "    }\n",
       "\n",
       "    .dataframe thead th {\n",
       "        text-align: right;\n",
       "    }\n",
       "</style>\n",
       "<table border=\"1\" class=\"dataframe\">\n",
       "  <thead>\n",
       "    <tr style=\"text-align: right;\">\n",
       "      <th></th>\n",
       "      <th>Phone_num</th>\n",
       "    </tr>\n",
       "  </thead>\n",
       "  <tbody>\n",
       "    <tr>\n",
       "      <th>0</th>\n",
       "      <td>555-123-4567</td>\n",
       "    </tr>\n",
       "    <tr>\n",
       "      <th>1</th>\n",
       "      <td>(555) 987-6543</td>\n",
       "    </tr>\n",
       "    <tr>\n",
       "      <th>2</th>\n",
       "      <td>555-654-3210</td>\n",
       "    </tr>\n",
       "    <tr>\n",
       "      <th>3</th>\n",
       "      <td>555-000-1111</td>\n",
       "    </tr>\n",
       "    <tr>\n",
       "      <th>4</th>\n",
       "      <td>555-222-3333</td>\n",
       "    </tr>\n",
       "    <tr>\n",
       "      <th>5</th>\n",
       "      <td>(555) 444-5555</td>\n",
       "    </tr>\n",
       "    <tr>\n",
       "      <th>6</th>\n",
       "      <td>555-666-7777</td>\n",
       "    </tr>\n",
       "    <tr>\n",
       "      <th>7</th>\n",
       "      <td>5551238888</td>\n",
       "    </tr>\n",
       "    <tr>\n",
       "      <th>8</th>\n",
       "      <td>(555) 777-8888</td>\n",
       "    </tr>\n",
       "  </tbody>\n",
       "</table>\n",
       "</div>"
      ],
      "text/plain": [
       "        Phone_num\n",
       "0    555-123-4567\n",
       "1  (555) 987-6543\n",
       "2    555-654-3210\n",
       "3    555-000-1111\n",
       "4    555-222-3333\n",
       "5  (555) 444-5555\n",
       "6    555-666-7777\n",
       "7      5551238888\n",
       "8  (555) 777-8888"
      ]
     },
     "execution_count": 40,
     "metadata": {},
     "output_type": "execute_result"
    }
   ],
   "source": [
    "df = pd.DataFrame(valid_contacts,columns=['Phone_num'])\n",
    "df"
   ]
  },
  {
   "cell_type": "code",
   "execution_count": 41,
   "id": "0138b336",
   "metadata": {},
   "outputs": [],
   "source": [
    "df['Phone_num'] = df['Phone_num'].str.strip()"
   ]
  },
  {
   "cell_type": "code",
   "execution_count": 42,
   "id": "307dd908",
   "metadata": {},
   "outputs": [],
   "source": [
    "df['Phone_num'] = df['Phone_num'].str.replace(r'\\D', '', regex=True)\n"
   ]
  },
  {
   "cell_type": "code",
   "execution_count": 43,
   "id": "59f4b81c",
   "metadata": {},
   "outputs": [
    {
     "data": {
      "application/vnd.microsoft.datawrangler.viewer.v0+json": {
       "columns": [
        {
         "name": "index",
         "rawType": "int64",
         "type": "integer"
        },
        {
         "name": "Phone_num",
         "rawType": "object",
         "type": "string"
        }
       ],
       "ref": "1bef6755-7b62-4cda-a1f0-f05bd9b55afc",
       "rows": [
        [
         "0",
         "5551234567"
        ],
        [
         "1",
         "5559876543"
        ],
        [
         "2",
         "5556543210"
        ],
        [
         "3",
         "5550001111"
        ],
        [
         "4",
         "5552223333"
        ]
       ],
       "shape": {
        "columns": 1,
        "rows": 5
       }
      },
      "text/html": [
       "<div>\n",
       "<style scoped>\n",
       "    .dataframe tbody tr th:only-of-type {\n",
       "        vertical-align: middle;\n",
       "    }\n",
       "\n",
       "    .dataframe tbody tr th {\n",
       "        vertical-align: top;\n",
       "    }\n",
       "\n",
       "    .dataframe thead th {\n",
       "        text-align: right;\n",
       "    }\n",
       "</style>\n",
       "<table border=\"1\" class=\"dataframe\">\n",
       "  <thead>\n",
       "    <tr style=\"text-align: right;\">\n",
       "      <th></th>\n",
       "      <th>Phone_num</th>\n",
       "    </tr>\n",
       "  </thead>\n",
       "  <tbody>\n",
       "    <tr>\n",
       "      <th>0</th>\n",
       "      <td>5551234567</td>\n",
       "    </tr>\n",
       "    <tr>\n",
       "      <th>1</th>\n",
       "      <td>5559876543</td>\n",
       "    </tr>\n",
       "    <tr>\n",
       "      <th>2</th>\n",
       "      <td>5556543210</td>\n",
       "    </tr>\n",
       "    <tr>\n",
       "      <th>3</th>\n",
       "      <td>5550001111</td>\n",
       "    </tr>\n",
       "    <tr>\n",
       "      <th>4</th>\n",
       "      <td>5552223333</td>\n",
       "    </tr>\n",
       "  </tbody>\n",
       "</table>\n",
       "</div>"
      ],
      "text/plain": [
       "    Phone_num\n",
       "0  5551234567\n",
       "1  5559876543\n",
       "2  5556543210\n",
       "3  5550001111\n",
       "4  5552223333"
      ]
     },
     "execution_count": 43,
     "metadata": {},
     "output_type": "execute_result"
    }
   ],
   "source": [
    "df.head()"
   ]
  },
  {
   "cell_type": "code",
   "execution_count": 44,
   "id": "f7a0a487",
   "metadata": {},
   "outputs": [],
   "source": [
    "df['Phone_num'] = df['Phone_num'].str.extract(r'(\\d{10})$')"
   ]
  },
  {
   "cell_type": "code",
   "execution_count": 45,
   "id": "112025ee",
   "metadata": {},
   "outputs": [
    {
     "data": {
      "application/vnd.microsoft.datawrangler.viewer.v0+json": {
       "columns": [
        {
         "name": "index",
         "rawType": "int64",
         "type": "integer"
        },
        {
         "name": "Phone_num",
         "rawType": "object",
         "type": "string"
        }
       ],
       "ref": "9f08eb35-3296-484f-8c25-1b3e4510c345",
       "rows": [
        [
         "0",
         "5551234567"
        ],
        [
         "1",
         "5559876543"
        ],
        [
         "2",
         "5556543210"
        ],
        [
         "3",
         "5550001111"
        ],
        [
         "4",
         "5552223333"
        ],
        [
         "5",
         "5554445555"
        ],
        [
         "6",
         "5556667777"
        ],
        [
         "7",
         "5551238888"
        ],
        [
         "8",
         "5557778888"
        ]
       ],
       "shape": {
        "columns": 1,
        "rows": 9
       }
      },
      "text/html": [
       "<div>\n",
       "<style scoped>\n",
       "    .dataframe tbody tr th:only-of-type {\n",
       "        vertical-align: middle;\n",
       "    }\n",
       "\n",
       "    .dataframe tbody tr th {\n",
       "        vertical-align: top;\n",
       "    }\n",
       "\n",
       "    .dataframe thead th {\n",
       "        text-align: right;\n",
       "    }\n",
       "</style>\n",
       "<table border=\"1\" class=\"dataframe\">\n",
       "  <thead>\n",
       "    <tr style=\"text-align: right;\">\n",
       "      <th></th>\n",
       "      <th>Phone_num</th>\n",
       "    </tr>\n",
       "  </thead>\n",
       "  <tbody>\n",
       "    <tr>\n",
       "      <th>0</th>\n",
       "      <td>5551234567</td>\n",
       "    </tr>\n",
       "    <tr>\n",
       "      <th>1</th>\n",
       "      <td>5559876543</td>\n",
       "    </tr>\n",
       "    <tr>\n",
       "      <th>2</th>\n",
       "      <td>5556543210</td>\n",
       "    </tr>\n",
       "    <tr>\n",
       "      <th>3</th>\n",
       "      <td>5550001111</td>\n",
       "    </tr>\n",
       "    <tr>\n",
       "      <th>4</th>\n",
       "      <td>5552223333</td>\n",
       "    </tr>\n",
       "    <tr>\n",
       "      <th>5</th>\n",
       "      <td>5554445555</td>\n",
       "    </tr>\n",
       "    <tr>\n",
       "      <th>6</th>\n",
       "      <td>5556667777</td>\n",
       "    </tr>\n",
       "    <tr>\n",
       "      <th>7</th>\n",
       "      <td>5551238888</td>\n",
       "    </tr>\n",
       "    <tr>\n",
       "      <th>8</th>\n",
       "      <td>5557778888</td>\n",
       "    </tr>\n",
       "  </tbody>\n",
       "</table>\n",
       "</div>"
      ],
      "text/plain": [
       "    Phone_num\n",
       "0  5551234567\n",
       "1  5559876543\n",
       "2  5556543210\n",
       "3  5550001111\n",
       "4  5552223333\n",
       "5  5554445555\n",
       "6  5556667777\n",
       "7  5551238888\n",
       "8  5557778888"
      ]
     },
     "execution_count": 45,
     "metadata": {},
     "output_type": "execute_result"
    }
   ],
   "source": [
    "df"
   ]
  },
  {
   "cell_type": "code",
   "execution_count": 46,
   "id": "845147a2",
   "metadata": {},
   "outputs": [
    {
     "name": "stdout",
     "output_type": "stream",
     "text": [
      "John Doe met Jane Smith on 2023-05-14, contact: 555-123-4567.\n",
      "Emily called Mark at (555) 987-6543 on 12/11/2022.\n",
      "Meeting scheduled for 2022-08-30, contact: alice@example.com.\n",
      "Call Sarah at 555.321.7654 before 01/01/2024.\n",
      "Appointment with Dr. Brown on March 3, 2023, phone: 555-654-3210.\n",
      "Email sent to mike@domain.com on 2021-07-22.\n",
      "Lisa's number is 555-000-1111, met her on 10-10-2020.\n",
      "Dinner with Tom at tom@workmail.com on 2022/09/15.\n",
      "Contact Anna (anna.smith@mail.com) before 2023-12-31.\n",
      "Project deadline: 2024-04-01, manager: 555-222-3333.\n",
      "Meeting with Bob on 15th June 2022, phone: (555) 444-5555.\n",
      "Send report to claire@company.org by 2023-03-10.\n",
      "Interview on 2022-11-05, HR: 555-666-7777.\n",
      "Lunch with Greg at greg@personal.net on 09/09/2021.\n",
      "Call office at 5551238888 on 2023-08-20.\n",
      "Reminder: 2021-12-25, contact: mary.jane@service.com.\n",
      "Conference on 2022/07/18, RSVP: 555.888.9999.\n",
      "Email invitation to paul@invite.com before 2022-10-01.\n",
      "Workshop on 2023-02-14, coordinator: (555) 777-8888.\n",
      "Contact support at support@helpdesk.com on 2024-01-05.\n"
     ]
    }
   ],
   "source": [
    "with open('Datasets/contacts.txt', 'r', encoding='utf-8') as file:\n",
    "    for line in file:\n",
    "        print(line.strip())"
   ]
  },
  {
   "cell_type": "code",
   "execution_count": null,
   "id": "1095625b",
   "metadata": {},
   "outputs": [],
   "source": []
  }
 ],
 "metadata": {
  "kernelspec": {
   "display_name": "Python 3",
   "language": "python",
   "name": "python3"
  },
  "language_info": {
   "codemirror_mode": {
    "name": "ipython",
    "version": 3
   },
   "file_extension": ".py",
   "mimetype": "text/x-python",
   "name": "python",
   "nbconvert_exporter": "python",
   "pygments_lexer": "ipython3",
   "version": "3.13.5"
  }
 },
 "nbformat": 4,
 "nbformat_minor": 5
}
