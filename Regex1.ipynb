{
 "cells": [
  {
   "cell_type": "code",
   "execution_count": 91,
   "id": "29c5cb3f",
   "metadata": {},
   "outputs": [],
   "source": [
    "import re\n",
    "import pandas as pd\n",
    "import numpy as np"
   ]
  },
  {
   "cell_type": "code",
   "execution_count": 92,
   "id": "da05b627",
   "metadata": {},
   "outputs": [
    {
     "name": "stdout",
     "output_type": "stream",
     "text": [
      "John Doe met Jane Smith on 2023-05-14, contact: 555-123-4567.\n",
      "Emily called Mark at (555) 987-6543 on 12/11/2022.\n",
      "Meeting scheduled for 2022-08-30, contact: alice@example.com.\n",
      "Call Sarah at 555.321.7654 before 01/01/2024.\n",
      "Appointment with Dr. Brown on March 3, 2023, phone: 555-654-3210.\n",
      "Email sent to mike@domain.com on 2021-07-22.\n",
      "Lisa's number is 555-000-1111, met her on 10-10-2020.\n",
      "Dinner with Tom at tom@workmail.com on 2022/09/15.\n",
      "Contact Anna (anna.smith@mail.com) before 2023-12-31.\n",
      "Project deadline: 2024-04-01, manager: 555-222-3333.\n",
      "Meeting with Bob on 15th June 2022, phone: (555) 444-5555.\n",
      "Send report to claire@company.org by 2023-03-10.\n",
      "Interview on 2022-11-05, HR: 555-666-7777.\n",
      "Lunch with Greg at greg@personal.net on 09/09/2021.\n",
      "Call office at 5551238888 on 2023-08-20.\n",
      "Reminder: 2021-12-25, contact: mary.jane@service.com.\n",
      "Conference on 2022/07/18, RSVP: 555.888.9999.\n",
      "Email invitation to paul@invite.com before 2022-10-01.\n",
      "Workshop on 2023-02-14, coordinator: (555) 777-8888.\n",
      "Contact support at support@helpdesk.com on 2024-01-05.\n"
     ]
    }
   ],
   "source": [
    "with open('Datasets/contacts.txt', 'r', encoding='utf-8') as file:\n",
    "    for line in file:\n",
    "        print(line.strip())"
   ]
  },
  {
   "cell_type": "code",
   "execution_count": 93,
   "id": "24d93e75",
   "metadata": {},
   "outputs": [
    {
     "name": "stdout",
     "output_type": "stream",
     "text": [
      "1 555-123-4567\n",
      "2 (555) 987-6543\n",
      "4 555.321.7654\n",
      "5 555-654-3210\n",
      "7 555-000-1111\n",
      "10 555-222-3333\n",
      "11 (555) 444-5555\n",
      "13 555-666-7777\n",
      "17 555.888.9999\n",
      "19 (555) 777-8888\n"
     ]
    }
   ],
   "source": [
    "valid_contacts = []\n",
    "pattern_num = r'\\d{3}-\\d{3}-\\d{4}|\\(\\d{3}\\) \\d{3}-\\d{4}|\\d{3}\\.\\d{3}\\.\\d{4}'\n",
    "with open('Datasets/contacts.txt','r', encoding='utf-8') as file:\n",
    "    for idx, line in enumerate(file):\n",
    "        match = re.search(pattern_num, line)\n",
    "        if match:\n",
    "            valid_contacts.append(match.group())\n",
    "            print(idx+1 ,match.group())"
   ]
  },
  {
   "cell_type": "code",
   "execution_count": 94,
   "id": "b61bd822",
   "metadata": {},
   "outputs": [
    {
     "data": {
      "application/vnd.microsoft.datawrangler.viewer.v0+json": {
       "columns": [
        {
         "name": "index",
         "rawType": "int64",
         "type": "integer"
        },
        {
         "name": "Phone_num",
         "rawType": "object",
         "type": "string"
        }
       ],
       "ref": "ed85a67b-2724-43da-9733-a76c429b5ee9",
       "rows": [
        [
         "0",
         "555-123-4567"
        ],
        [
         "1",
         "(555) 987-6543"
        ],
        [
         "2",
         "555.321.7654"
        ],
        [
         "3",
         "555-654-3210"
        ],
        [
         "4",
         "555-000-1111"
        ],
        [
         "5",
         "555-222-3333"
        ],
        [
         "6",
         "(555) 444-5555"
        ],
        [
         "7",
         "555-666-7777"
        ],
        [
         "8",
         "555.888.9999"
        ],
        [
         "9",
         "(555) 777-8888"
        ]
       ],
       "shape": {
        "columns": 1,
        "rows": 10
       }
      },
      "text/plain": [
       "0      555-123-4567\n",
       "1    (555) 987-6543\n",
       "2      555.321.7654\n",
       "3      555-654-3210\n",
       "4      555-000-1111\n",
       "5      555-222-3333\n",
       "6    (555) 444-5555\n",
       "7      555-666-7777\n",
       "8      555.888.9999\n",
       "9    (555) 777-8888\n",
       "Name: Phone_num, dtype: object"
      ]
     },
     "execution_count": 94,
     "metadata": {},
     "output_type": "execute_result"
    }
   ],
   "source": [
    "df = pd.Series(valid_contacts, name='Phone_num')\n",
    "df"
   ]
  },
  {
   "cell_type": "code",
   "execution_count": 95,
   "id": "0138b336",
   "metadata": {},
   "outputs": [],
   "source": [
    "df = df.str.strip() "
   ]
  },
  {
   "cell_type": "code",
   "execution_count": 96,
   "id": "307dd908",
   "metadata": {},
   "outputs": [],
   "source": [
    "df = df.str.replace(r'\\D', '', regex=True)\n"
   ]
  },
  {
   "cell_type": "code",
   "execution_count": 97,
   "id": "59f4b81c",
   "metadata": {},
   "outputs": [
    {
     "data": {
      "application/vnd.microsoft.datawrangler.viewer.v0+json": {
       "columns": [
        {
         "name": "index",
         "rawType": "int64",
         "type": "integer"
        },
        {
         "name": "Phone_num",
         "rawType": "object",
         "type": "string"
        }
       ],
       "ref": "9f4e8527-1c81-46b6-a3f6-eff3b9c3e017",
       "rows": [
        [
         "0",
         "5551234567"
        ],
        [
         "1",
         "5559876543"
        ],
        [
         "2",
         "5553217654"
        ],
        [
         "3",
         "5556543210"
        ],
        [
         "4",
         "5550001111"
        ]
       ],
       "shape": {
        "columns": 1,
        "rows": 5
       }
      },
      "text/plain": [
       "0    5551234567\n",
       "1    5559876543\n",
       "2    5553217654\n",
       "3    5556543210\n",
       "4    5550001111\n",
       "Name: Phone_num, dtype: object"
      ]
     },
     "execution_count": 97,
     "metadata": {},
     "output_type": "execute_result"
    }
   ],
   "source": [
    "df.head()"
   ]
  },
  {
   "cell_type": "code",
   "execution_count": 98,
   "id": "112025ee",
   "metadata": {},
   "outputs": [
    {
     "data": {
      "application/vnd.microsoft.datawrangler.viewer.v0+json": {
       "columns": [
        {
         "name": "index",
         "rawType": "int64",
         "type": "integer"
        },
        {
         "name": "Phone_num",
         "rawType": "object",
         "type": "string"
        }
       ],
       "ref": "c1f58637-8664-4238-a290-b9cb3db50cf7",
       "rows": [
        [
         "0",
         "5551234567"
        ],
        [
         "1",
         "5559876543"
        ],
        [
         "2",
         "5553217654"
        ],
        [
         "3",
         "5556543210"
        ],
        [
         "4",
         "5550001111"
        ],
        [
         "5",
         "5552223333"
        ],
        [
         "6",
         "5554445555"
        ],
        [
         "7",
         "5556667777"
        ],
        [
         "8",
         "5558889999"
        ],
        [
         "9",
         "5557778888"
        ]
       ],
       "shape": {
        "columns": 1,
        "rows": 10
       }
      },
      "text/plain": [
       "0    5551234567\n",
       "1    5559876543\n",
       "2    5553217654\n",
       "3    5556543210\n",
       "4    5550001111\n",
       "5    5552223333\n",
       "6    5554445555\n",
       "7    5556667777\n",
       "8    5558889999\n",
       "9    5557778888\n",
       "Name: Phone_num, dtype: object"
      ]
     },
     "execution_count": 98,
     "metadata": {},
     "output_type": "execute_result"
    }
   ],
   "source": [
    "df"
   ]
  },
  {
   "cell_type": "code",
   "execution_count": 99,
   "id": "845147a2",
   "metadata": {},
   "outputs": [
    {
     "name": "stdout",
     "output_type": "stream",
     "text": [
      "alice@example.com\n",
      "mike@domain.com\n",
      "tom@workmail.com\n",
      "anna.smith@mail.com\n",
      "claire@company.org\n",
      "greg@personal.net\n",
      "mary.jane@service.com\n",
      "paul@invite.com\n",
      "support@helpdesk.com\n"
     ]
    }
   ],
   "source": [
    "email = []\n",
    "pattern_email = r\"[._a-zA-Z0-9_]*@[a-zA-Z0-9_]*.[a-zA-z]*\"\n",
    "with open('Datasets/contacts.txt', 'r', encoding='utf-8') as file:\n",
    "    for line in file:\n",
    "        mail = re.findall(pattern_email, line)\n",
    "        for mail in mail:\n",
    "            email.append(mail)\n",
    "            print(mail)"
   ]
  },
  {
   "cell_type": "code",
   "execution_count": 114,
   "id": "12a763f3",
   "metadata": {},
   "outputs": [
    {
     "data": {
      "application/vnd.microsoft.datawrangler.viewer.v0+json": {
       "columns": [
        {
         "name": "index",
         "rawType": "int64",
         "type": "integer"
        },
        {
         "name": "Contact_info",
         "rawType": "object",
         "type": "string"
        }
       ],
       "ref": "1147181c-d683-4fe3-bbc2-b9d7643063a7",
       "rows": [
        [
         "0",
         "5551234567"
        ],
        [
         "1",
         "5559876543"
        ],
        [
         "2",
         "5553217654"
        ],
        [
         "3",
         "5556543210"
        ],
        [
         "4",
         "5550001111"
        ],
        [
         "5",
         "5552223333"
        ],
        [
         "6",
         "5554445555"
        ],
        [
         "7",
         "5556667777"
        ],
        [
         "8",
         "5558889999"
        ],
        [
         "9",
         "5557778888"
        ],
        [
         "10",
         "alice@example.com"
        ],
        [
         "11",
         "mike@domain.com"
        ],
        [
         "12",
         "tom@workmail.com"
        ],
        [
         "13",
         "anna.smith@mail.com"
        ],
        [
         "14",
         "claire@company.org"
        ],
        [
         "15",
         "greg@personal.net"
        ],
        [
         "16",
         "mary.jane@service.com"
        ],
        [
         "17",
         "paul@invite.com"
        ],
        [
         "18",
         "support@helpdesk.com"
        ]
       ],
       "shape": {
        "columns": 1,
        "rows": 19
       }
      },
      "text/plain": [
       "0                5551234567\n",
       "1                5559876543\n",
       "2                5553217654\n",
       "3                5556543210\n",
       "4                5550001111\n",
       "5                5552223333\n",
       "6                5554445555\n",
       "7                5556667777\n",
       "8                5558889999\n",
       "9                5557778888\n",
       "10        alice@example.com\n",
       "11          mike@domain.com\n",
       "12         tom@workmail.com\n",
       "13      anna.smith@mail.com\n",
       "14       claire@company.org\n",
       "15        greg@personal.net\n",
       "16    mary.jane@service.com\n",
       "17          paul@invite.com\n",
       "18     support@helpdesk.com\n",
       "Name: Contact_info, dtype: object"
      ]
     },
     "execution_count": 114,
     "metadata": {},
     "output_type": "execute_result"
    }
   ],
   "source": [
    "contact_info = pd.concat([df, pd.Series(email)], ignore_index=True).rename('Contact_info')\n",
    "contact_info"
   ]
  },
  {
   "cell_type": "code",
   "execution_count": null,
   "id": "4c8a90ac",
   "metadata": {},
   "outputs": [],
   "source": []
  }
 ],
 "metadata": {
  "kernelspec": {
   "display_name": "Python 3",
   "language": "python",
   "name": "python3"
  },
  "language_info": {
   "codemirror_mode": {
    "name": "ipython",
    "version": 3
   },
   "file_extension": ".py",
   "mimetype": "text/x-python",
   "name": "python",
   "nbconvert_exporter": "python",
   "pygments_lexer": "ipython3",
   "version": "3.13.5"
  }
 },
 "nbformat": 4,
 "nbformat_minor": 5
}
