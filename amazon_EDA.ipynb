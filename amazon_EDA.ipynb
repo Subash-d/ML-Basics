{
 "cells": [
  {
   "cell_type": "code",
   "execution_count": 17,
   "id": "f9cc124b",
   "metadata": {},
   "outputs": [],
   "source": [
    "import pandas as pd\n",
    "import numpy as np\n",
    "import matplotlib.pyplot as plt\n",
    "import seaborn as sns"
   ]
  },
  {
   "cell_type": "code",
   "execution_count": 18,
   "id": "b7905e72",
   "metadata": {},
   "outputs": [
    {
     "data": {
      "application/vnd.microsoft.datawrangler.viewer.v0+json": {
       "columns": [
        {
         "name": "index",
         "rawType": "int64",
         "type": "integer"
        },
        {
         "name": "product_id",
         "rawType": "object",
         "type": "string"
        },
        {
         "name": "product_name",
         "rawType": "object",
         "type": "string"
        },
        {
         "name": "category",
         "rawType": "object",
         "type": "string"
        },
        {
         "name": "discounted_price",
         "rawType": "object",
         "type": "string"
        },
        {
         "name": "actual_price",
         "rawType": "object",
         "type": "string"
        },
        {
         "name": "discount_percentage",
         "rawType": "object",
         "type": "string"
        },
        {
         "name": "rating",
         "rawType": "object",
         "type": "string"
        },
        {
         "name": "rating_count",
         "rawType": "object",
         "type": "string"
        },
        {
         "name": "about_product",
         "rawType": "object",
         "type": "string"
        },
        {
         "name": "user_id",
         "rawType": "object",
         "type": "string"
        },
        {
         "name": "user_name",
         "rawType": "object",
         "type": "string"
        },
        {
         "name": "review_id",
         "rawType": "object",
         "type": "string"
        },
        {
         "name": "review_title",
         "rawType": "object",
         "type": "string"
        },
        {
         "name": "review_content",
         "rawType": "object",
         "type": "string"
        },
        {
         "name": "img_link",
         "rawType": "object",
         "type": "string"
        },
        {
         "name": "product_link",
         "rawType": "object",
         "type": "string"
        }
       ],
       "ref": "74b46d86-7c67-41be-a28b-c8388ec0637c",
       "rows": [
        [
         "0",
         "B07JW9H4J1",
         "Wayona Nylon Braided USB to Lightning Fast Charging and Data Sync Cable Compatible for iPhone 13, 12,11, X, 8, 7, 6, 5, iPad Air, Pro, Mini (3 FT Pack of 1, Grey)",
         "Computers&Accessories|Accessories&Peripherals|Cables&Accessories|Cables|USBCables",
         "₹399",
         "₹1,099",
         "64%",
         "4.2",
         "24,269",
         "High Compatibility : Compatible With iPhone 12, 11, X/XsMax/Xr ,iPhone 8/8 Plus,iPhone 7/7 Plus,iPhone 6s/6s Plus,iPhone 6/6 Plus,iPhone 5/5s/5c/se,iPad Pro,iPad Air 1/2,iPad mini 1/2/3,iPod nano7,iPod touch and more apple devices.|Fast Charge&Data Sync : It can charge and sync simultaneously at a rapid speed, Compatible with any charging adaptor, multi-port charging station or power bank.|Durability : Durable nylon braided design with premium aluminum housing and toughened nylon fiber wound tightly around the cord lending it superior durability and adding a bit to its flexibility.|High Security Level : It is designed to fully protect your device from damaging excessive current.Copper core thick+Multilayer shielding, Anti-interference, Protective circuit equipment.|WARRANTY: 12 months warranty and friendly customer services, ensures the long-time enjoyment of your purchase. If you meet any question or problem, please don't hesitate to contact us.",
         "AG3D6O4STAQKAY2UVGEUV46KN35Q,AHMY5CWJMMK5BJRBBSNLYT3ONILA,AHCTC6ULH4XB6YHDY6PCH2R772LQ,AGYHHIERNXKA6P5T7CZLXKVPT7IQ,AG4OGOFWXJZTQ2HKYIOCOY3KXF2Q,AENGU523SXMOS7JPDTW52PNNVWGQ,AEQJHCVTNINBS4FKTBGQRQTGTE5Q,AFC3FFC5PKFF5PMA52S3VCHOZ5FQ",
         "Manav,Adarsh gupta,Sundeep,S.Sayeed Ahmed,jaspreet singh,Khaja moin,Anand,S.ARUMUGAM",
         "R3HXWT0LRP0NMF,R2AJM3LFTLZHFO,R6AQJGUP6P86,R1KD19VHEDV0OR,R3C02RMYQMK6FC,R39GQRVBUZBWGY,R2K9EDOE15QIRJ,R3OI7YT648TL8I",
         "Satisfied,Charging is really fast,Value for money,Product review,Good quality,Good product,Good Product,As of now seems good",
         "Looks durable Charging is fine tooNo complains,Charging is really fast, good product.,Till now satisfied with the quality.,This is a good product . The charging speed is slower than the original iPhone cable,Good quality, would recommend,https://m.media-amazon.com/images/W/WEBP_402378-T1/images/I/81---F1ZgHL._SY88.jpg,Product had worked well till date and was having no issue.Cable is also sturdy enough...Have asked for replacement and company is doing the same...,Value for money",
         "https://m.media-amazon.com/images/W/WEBP_402378-T1/images/I/51UsScvHQNL._SX300_SY300_QL70_FMwebp_.jpg",
         "https://www.amazon.in/Wayona-Braided-WN3LG1-Syncing-Charging/dp/B07JW9H4J1/ref=sr_1_1?qid=1672909124&s=electronics&sr=1-1"
        ],
        [
         "1",
         "B098NS6PVG",
         "Ambrane Unbreakable 60W / 3A Fast Charging 1.5m Braided Type C Cable for Smartphones, Tablets, Laptops & other Type C devices, PD Technology, 480Mbps Data Sync, Quick Charge 3.0 (RCT15A, Black)",
         "Computers&Accessories|Accessories&Peripherals|Cables&Accessories|Cables|USBCables",
         "₹199",
         "₹349",
         "43%",
         "4.0",
         "43,994",
         "Compatible with all Type C enabled devices, be it an android smartphone (Mi, Samsung, Oppo, Vivo, Realme, OnePlus, etc), tablet, laptop (Macbook, Chromebook, etc)|Supports Quick Charging (2.0/3.0)|Unbreakable – Made of special braided outer with rugged interior bindings, it is ultra-durable cable that won’t be affected by daily rough usage|Ideal Length – It has ideal length of 1.5 meters which is neither too short like your typical 1meter cable or too long like a 2meters cable|Supports maximum 3A fast charging and 480 Mbps data transfer speed|6 months manufacturer warranty from the date of purchase",
         "AECPFYFQVRUWC3KGNLJIOREFP5LQ,AGYYVPDD7YG7FYNBXNGXZJT525AQ,AHONIZU3ICIEHQIGQ6R2VFRSBXOQ,AFPHD2CRPDZMWMBL7WXRSVYWS5JA,AEZ346GX3HJ4O4XNRPHCNHXQURMQ,AEPSWFPNECKO34PUC7I56ITGXR6Q,AHWVEHR5DYLVFTO2KF3IZATFQSWQ,AH4QT33M55677I7ISQOAKEQWACYQ",
         "ArdKn,Nirbhay kumar,Sagar Viswanathan,Asp,Placeholder,BharanI,sonia,Niam",
         "RGIQEG07R9HS2,R1SMWZQ86XIN8U,R2J3Y1WL29GWDE,RYGGS0M09S3KY,R17KQRUTAN5DKS,R3AAQGS6HP2QUK,R1HDNOG6TO2CCA,R3PHKXYA5AFEOU",
         "A Good Braided Cable for Your Type C Device,Good quality product from ambrane,Super cable,As,Good quality,Good product,its good,Good quality for the price but one issue with my unit",
         "I ordered this cable to connect my phone to Android Auto of car. The cable is really strong and the connection ports are really well made. I already has a Micro USB cable from Ambrane and it's still in good shape. I connected my phone to the car using the cable and it got connected well and no issues. I also connected it to the charging port and yes it has Fast Charging support.,It quality is good at this price and the main thing is that i didn't ever thought that this cable will be so long it's good one and charging power is too good and also supports fast charging,Value for money, with extra length👍,Good, working fine,Product quality is good,Good,very good,Bought for my daughter's old phone.Brand new cable it was not charging, I already repacked and requested for replacement.I checked again, and there was some green colour paste/fungus inside the micro USB connector. I cleaned with an alcoholic and starts working again.Checked the ampere of charging speed got around 1400ma-1500ma - not bad, came with braided 1.5m long cable, pretty impressive for the price.Can't blame the manufacturer.But quality issues by the distributor, they might have stored in very humid place.",
         "https://m.media-amazon.com/images/W/WEBP_402378-T2/images/I/31zOsqQOAOL._SY445_SX342_QL70_FMwebp_.jpg",
         "https://www.amazon.in/Ambrane-Unbreakable-Charging-Braided-Cable/dp/B098NS6PVG/ref=sr_1_2?qid=1672909124&s=electronics&sr=1-2"
        ],
        [
         "2",
         "B096MSW6CT",
         "Sounce Fast Phone Charging Cable & Data Sync USB Cable Compatible for iPhone 13, 12,11, X, 8, 7, 6, 5, iPad Air, Pro, Mini & iOS Devices",
         "Computers&Accessories|Accessories&Peripherals|Cables&Accessories|Cables|USBCables",
         "₹199",
         "₹1,899",
         "90%",
         "3.9",
         "7,928",
         "【 Fast Charger& Data Sync】-With built-in safety proctections and four-core copper wires promote maximum signal quality and strength and enhance charging & data transfer speed with up to 480 mb/s transferring speed.|【 Compatibility】-Compatible with iPhone 13, 12,11, X, 8, 7, 6, 5, iPad Air, Pro, Mini & iOS devices.|【 Sturdy & Durable】-The jacket and enforced connector made of TPE and premium copper, are resistant to repeatedly bending and coiling.|【 Ultra High Quality】: According to the experimental results, the fishbone design can accept at least 20,000 bending and insertion tests for extra protection and durability. Upgraded 3D aluminum connector and exclusive laser welding technology, which to ensure the metal part won't break and also have a tighter connection which fits well even with a protective case on and will never loose connection.|【 Good After Sales Service】-Our friendly and reliable customer service will respond to you within 24 hours ! you can purchase with confidence,and every sale includes a 365-day worry-free Service to prove the importance we set on quality.",
         "AGU3BBQ2V2DDAMOAKGFAWDDQ6QHA,AESFLDV2PT363T2AQLWQOWZ4N3OA,AHTPQRIMGUD4BYR5YIHBH3CCGEFQ,AEUVWXYP5LT7PZLLZENEO2NODPBQ,AHC7MPW55DOO6WNCOQVA2VHOD26A,AFDI6FRPFBTNBG7BAEB7JDJSMKDQ,AFQKCEEEKXCOHTDG4WUN3XPPHJQQ,AHKUUFNMBZIDLSSPA4FEHIO2EC7Q",
         "Kunal,Himanshu,viswanath,sai niharka,saqib malik,Aashiq,Ramu Challa,Sanjay gupta",
         "R3J3EQQ9TZI5ZJ,R3E7WBGK7ID0KV,RWU79XKQ6I1QF,R25X4TBMPY91LX,R27OK7G99VK0TR,R207CYDCHJJTCJ,R3PCU8XMU173BT,R1IMONDOWRNU5V",
         "Good speed for earlier versions,Good Product,Working good,Good for the price,Good,Worth for money,Working nice,it's a really nice product",
         "Not quite durable and sturdy,https://m.media-amazon.com/images/W/WEBP_402378-T1/images/I/71rIggrbUCL._SY88.jpg,Working good,https://m.media-amazon.com/images/W/WEBP_402378-T1/images/I/61bKp9YO6wL._SY88.jpg,Product,Very nice product,Working well,It's a really nice product",
         "https://m.media-amazon.com/images/W/WEBP_402378-T1/images/I/31IvNJZnmdL._SY445_SX342_QL70_FMwebp_.jpg",
         "https://www.amazon.in/Sounce-iPhone-Charging-Compatible-Devices/dp/B096MSW6CT/ref=sr_1_3?qid=1672909124&s=electronics&sr=1-3"
        ],
        [
         "3",
         "B08HDJ86NZ",
         "boAt Deuce USB 300 2 in 1 Type-C & Micro USB Stress Resistant, Tangle-Free, Sturdy Cable with 3A Fast Charging & 480mbps Data Transmission, 10000+ Bends Lifespan and Extended 1.5m Length(Martian Red)",
         "Computers&Accessories|Accessories&Peripherals|Cables&Accessories|Cables|USBCables",
         "₹329",
         "₹699",
         "53%",
         "4.2",
         "94,363",
         "The boAt Deuce USB 300 2 in 1 cable is compatible with smartphones, tablets, PC peripherals, Bluetooth speakers, power banks and all other devices with Type-C as well as Micro USB port|It ensures 3A fast charging and data transmissions with rapid sync at 480 mbps|The premium Nylon braided skin makes it sturdy and invincible against external damage|Its Aluminium alloy shell housing makes it last longer with 10000+ Bends Lifespan with extended frame protection for strain relief|The resilient and flexible design offers a tangle free experience seamlessly|Deuce USB 300 cable offers a perfect 1.5 meters in length for smooth & hassle-free user experience|2 years warranty from the date of purchase",
         "AEWAZDZZJLQUYVOVGBEUKSLXHQ5A,AG5HTSFRRE6NL3M5SGCUQBP7YSCA,AH725ST5NW2Y4JZPKUNTIJCUK2BA,AHV3TXIFCJPMS4D5JATCEUR266MQ,AGWIGDEMFIIUAOXYY2QATNBSUGHA,AFSTSLQUV4EVEXWKBOLEFHL2H5YQ,AGAKDNBHY2FKX7I4ACRGILU7QL7A,AFNWJUWJRHCC6HN52KMG5AKZY37Q",
         "Omkar dhale,JD,HEMALATHA,Ajwadh a.,amar singh chouhan,Ravi Siddan,Himanshu Goel,Udaykumar",
         "R3EEUZKKK9J36I,R3HJVYCLYOY554,REDECAZ7AMPQC,R1CLH2ULIVG5U3,R2DMKIBGFKBD6R,RC89B5IAJUTR5,R3B3DDON5FH8DS,R13WAEJDI5RS36",
         "Good product,Good one,Nice,Really nice product,Very first time change,Good,Fine product but could be better,Very nice it's charging like jet",
         "Good product,long wire,Charges good,Nice,I bought this cable for Rs.339 worthy product for this price, i tested it in various charger adapters 33w and 18w it supports fast charging as well.,Good,Ok,I had got this at good price on sale on Amazon and product is useful with warranty but for warranty you need to go very far not practical for such a cost and mine micro to type c connector stopped working after few days only.,I like this product",
         "https://m.media-amazon.com/images/I/41V5FtEWPkL._SX300_SY300_QL70_FMwebp_.jpg",
         "https://www.amazon.in/Deuce-300-Resistant-Tangle-Free-Transmission/dp/B08HDJ86NZ/ref=sr_1_4?qid=1672909124&s=electronics&sr=1-4"
        ],
        [
         "4",
         "B08CF3B7N1",
         "Portronics Konnect L 1.2M Fast Charging 3A 8 Pin USB Cable with Charge & Sync Function for iPhone, iPad (Grey)",
         "Computers&Accessories|Accessories&Peripherals|Cables&Accessories|Cables|USBCables",
         "₹154",
         "₹399",
         "61%",
         "4.2",
         "16,905",
         "[CHARGE & SYNC FUNCTION]- This cable comes with charging & Data sync function|[HIGH QUALITY MATERIAL]- TPE + Nylon Material to make sure that the life of the cable is enhanced significantly|[LONG CORD]- The Cable is extra thick 1.2 meter long, optimized for an easy use for your comfort at home or office|[MORE DURABLE]-This cable is unique interms of design and multi-use and is positioned to provide the best comfort and performance while using|[UNIVERSAL COMPATIBILITY]- Compatible with all devices like iPhone XS, X, XR, 8, 7, 6S, 6, 5S, iPad Pro, iPad mini and iPad Air",
         "AE3Q6KSUK5P75D5HFYHCRAOLODSA,AFUGIFH5ZAFXRDSZHM4QB2KPKFUQ,AFK4NJOLFSJGWLOJIUIAROJF6YVA,AFUOTYRFUXVPEBGIXVZZ7DR3CZUA,AFDLRSXKDZ6U3U3KD46SQLFGZQRA,AH5VLM66SIK7J3IRG4NY7XVOQ55A,AE3MQNNHHLUHXURL5S7IAR7JTGNQ,AFSEOFZY67MYC7UAJU264Z5NFTLA",
         "rahuls6099,Swasat Borah,Ajay Wadke,Pranali,RVK,Bhargav,Durai Vignesh,Amazon Customer",
         "R1BP4L2HH9TFUP,R16PVJEXKV6QZS,R2UPDB81N66T4P,R3KK4GT934ST3I,RCFHMWUSBIJO,RDO7DACXMAJ84,R3A6MEZL3LY66Z,R1ESIEKPGAYA29",
         "As good as original,Decent,Good one for secondary use,Best quality,GOOD,Amazing product at a mind blowing price!,Nice Quality,Good product",
         "Bought this instead of original apple, does the work for 150rs, not as fast as apple charger but its a good option if you want cheap and good product, bought it for iPad pro 10.5 and it's working flawlessly, build quality is ok, its not like i am gonna hang my clothes on it and i want a very strong cable, even a braided cable stop working after a year, i have used both Anker and Apple store strong braided cable they all stop working after a year so please don't buy high end cables just for that instead choose a this one and even if it's stops working withing a year you only loose 150rs compares to 2000rs.UPDATE------------------------------------pin has stopped charging from one side, now i have to slip the pin to charge from other side, but i will update and let know for how long does it work,,It’s good. Not sure about durability as the pin area feels a bit fragile,Does not support apple carplaySo was little disappointed about thatOther than that cable is made up of very good quality,Best to buy,100% NOT FATHFUL,Writing this review post 10 months and 3 orders of the same product.Honestly Portronics Konnect L lightning cable works like magic with the original Apple charging brick.Seeing the price of the cable I initially hesitated buying as it was as low as ₹99/- with the offers and so I wasn’t sure if it would work well with my iPhone 12 or whether it would impact my iPhone’s battery health because all the other lightning cable brands were costing over ₹350/- like Wayona, Amazon Basics, etc.Earlier I was using Wayona Brand lightning cable with eventually frayed and stopped working.Charging Speed:Charges my iPhone fast enough almost similar compared to the original cable level when used with 12W Original Apple power adapter.Quality and Durability:Great quality braided cable and doesn’t tangle easily and can withstand day-to-day usage.L-Shaped pin:This is very innovative by Portronics and it makes sure the cable doesn’t get damaged even if used while charging.CarPlay and Data Sync:Works smoothly with CarPlay and syncs data effortlessly.PS: I have used this cable only with the Original Apple Charging Brick and extremely satisfied with its performance.,Better than I expect the product I like that Quality and I plan to buy same type cable come with usb C to Lighting cable for emergency purpose that much I love this cable. Buy for this cable only emergency uses only since Good one,Good product and value for money",
         "https://m.media-amazon.com/images/W/WEBP_402378-T2/images/I/31VzNhhqifL._SX300_SY300_QL70_FMwebp_.jpg",
         "https://www.amazon.in/Portronics-Konnect-POR-1080-Charging-Function/dp/B08CF3B7N1/ref=sr_1_5?qid=1672909124&s=electronics&sr=1-5"
        ]
       ],
       "shape": {
        "columns": 16,
        "rows": 5
       }
      },
      "text/html": [
       "<div>\n",
       "<style scoped>\n",
       "    .dataframe tbody tr th:only-of-type {\n",
       "        vertical-align: middle;\n",
       "    }\n",
       "\n",
       "    .dataframe tbody tr th {\n",
       "        vertical-align: top;\n",
       "    }\n",
       "\n",
       "    .dataframe thead th {\n",
       "        text-align: right;\n",
       "    }\n",
       "</style>\n",
       "<table border=\"1\" class=\"dataframe\">\n",
       "  <thead>\n",
       "    <tr style=\"text-align: right;\">\n",
       "      <th></th>\n",
       "      <th>product_id</th>\n",
       "      <th>product_name</th>\n",
       "      <th>category</th>\n",
       "      <th>discounted_price</th>\n",
       "      <th>actual_price</th>\n",
       "      <th>discount_percentage</th>\n",
       "      <th>rating</th>\n",
       "      <th>rating_count</th>\n",
       "      <th>about_product</th>\n",
       "      <th>user_id</th>\n",
       "      <th>user_name</th>\n",
       "      <th>review_id</th>\n",
       "      <th>review_title</th>\n",
       "      <th>review_content</th>\n",
       "      <th>img_link</th>\n",
       "      <th>product_link</th>\n",
       "    </tr>\n",
       "  </thead>\n",
       "  <tbody>\n",
       "    <tr>\n",
       "      <th>0</th>\n",
       "      <td>B07JW9H4J1</td>\n",
       "      <td>Wayona Nylon Braided USB to Lightning Fast Cha...</td>\n",
       "      <td>Computers&amp;Accessories|Accessories&amp;Peripherals|...</td>\n",
       "      <td>₹399</td>\n",
       "      <td>₹1,099</td>\n",
       "      <td>64%</td>\n",
       "      <td>4.2</td>\n",
       "      <td>24,269</td>\n",
       "      <td>High Compatibility : Compatible With iPhone 12...</td>\n",
       "      <td>AG3D6O4STAQKAY2UVGEUV46KN35Q,AHMY5CWJMMK5BJRBB...</td>\n",
       "      <td>Manav,Adarsh gupta,Sundeep,S.Sayeed Ahmed,jasp...</td>\n",
       "      <td>R3HXWT0LRP0NMF,R2AJM3LFTLZHFO,R6AQJGUP6P86,R1K...</td>\n",
       "      <td>Satisfied,Charging is really fast,Value for mo...</td>\n",
       "      <td>Looks durable Charging is fine tooNo complains...</td>\n",
       "      <td>https://m.media-amazon.com/images/W/WEBP_40237...</td>\n",
       "      <td>https://www.amazon.in/Wayona-Braided-WN3LG1-Sy...</td>\n",
       "    </tr>\n",
       "    <tr>\n",
       "      <th>1</th>\n",
       "      <td>B098NS6PVG</td>\n",
       "      <td>Ambrane Unbreakable 60W / 3A Fast Charging 1.5...</td>\n",
       "      <td>Computers&amp;Accessories|Accessories&amp;Peripherals|...</td>\n",
       "      <td>₹199</td>\n",
       "      <td>₹349</td>\n",
       "      <td>43%</td>\n",
       "      <td>4.0</td>\n",
       "      <td>43,994</td>\n",
       "      <td>Compatible with all Type C enabled devices, be...</td>\n",
       "      <td>AECPFYFQVRUWC3KGNLJIOREFP5LQ,AGYYVPDD7YG7FYNBX...</td>\n",
       "      <td>ArdKn,Nirbhay kumar,Sagar Viswanathan,Asp,Plac...</td>\n",
       "      <td>RGIQEG07R9HS2,R1SMWZQ86XIN8U,R2J3Y1WL29GWDE,RY...</td>\n",
       "      <td>A Good Braided Cable for Your Type C Device,Go...</td>\n",
       "      <td>I ordered this cable to connect my phone to An...</td>\n",
       "      <td>https://m.media-amazon.com/images/W/WEBP_40237...</td>\n",
       "      <td>https://www.amazon.in/Ambrane-Unbreakable-Char...</td>\n",
       "    </tr>\n",
       "    <tr>\n",
       "      <th>2</th>\n",
       "      <td>B096MSW6CT</td>\n",
       "      <td>Sounce Fast Phone Charging Cable &amp; Data Sync U...</td>\n",
       "      <td>Computers&amp;Accessories|Accessories&amp;Peripherals|...</td>\n",
       "      <td>₹199</td>\n",
       "      <td>₹1,899</td>\n",
       "      <td>90%</td>\n",
       "      <td>3.9</td>\n",
       "      <td>7,928</td>\n",
       "      <td>【 Fast Charger&amp; Data Sync】-With built-in safet...</td>\n",
       "      <td>AGU3BBQ2V2DDAMOAKGFAWDDQ6QHA,AESFLDV2PT363T2AQ...</td>\n",
       "      <td>Kunal,Himanshu,viswanath,sai niharka,saqib mal...</td>\n",
       "      <td>R3J3EQQ9TZI5ZJ,R3E7WBGK7ID0KV,RWU79XKQ6I1QF,R2...</td>\n",
       "      <td>Good speed for earlier versions,Good Product,W...</td>\n",
       "      <td>Not quite durable and sturdy,https://m.media-a...</td>\n",
       "      <td>https://m.media-amazon.com/images/W/WEBP_40237...</td>\n",
       "      <td>https://www.amazon.in/Sounce-iPhone-Charging-C...</td>\n",
       "    </tr>\n",
       "    <tr>\n",
       "      <th>3</th>\n",
       "      <td>B08HDJ86NZ</td>\n",
       "      <td>boAt Deuce USB 300 2 in 1 Type-C &amp; Micro USB S...</td>\n",
       "      <td>Computers&amp;Accessories|Accessories&amp;Peripherals|...</td>\n",
       "      <td>₹329</td>\n",
       "      <td>₹699</td>\n",
       "      <td>53%</td>\n",
       "      <td>4.2</td>\n",
       "      <td>94,363</td>\n",
       "      <td>The boAt Deuce USB 300 2 in 1 cable is compati...</td>\n",
       "      <td>AEWAZDZZJLQUYVOVGBEUKSLXHQ5A,AG5HTSFRRE6NL3M5S...</td>\n",
       "      <td>Omkar dhale,JD,HEMALATHA,Ajwadh a.,amar singh ...</td>\n",
       "      <td>R3EEUZKKK9J36I,R3HJVYCLYOY554,REDECAZ7AMPQC,R1...</td>\n",
       "      <td>Good product,Good one,Nice,Really nice product...</td>\n",
       "      <td>Good product,long wire,Charges good,Nice,I bou...</td>\n",
       "      <td>https://m.media-amazon.com/images/I/41V5FtEWPk...</td>\n",
       "      <td>https://www.amazon.in/Deuce-300-Resistant-Tang...</td>\n",
       "    </tr>\n",
       "    <tr>\n",
       "      <th>4</th>\n",
       "      <td>B08CF3B7N1</td>\n",
       "      <td>Portronics Konnect L 1.2M Fast Charging 3A 8 P...</td>\n",
       "      <td>Computers&amp;Accessories|Accessories&amp;Peripherals|...</td>\n",
       "      <td>₹154</td>\n",
       "      <td>₹399</td>\n",
       "      <td>61%</td>\n",
       "      <td>4.2</td>\n",
       "      <td>16,905</td>\n",
       "      <td>[CHARGE &amp; SYNC FUNCTION]- This cable comes wit...</td>\n",
       "      <td>AE3Q6KSUK5P75D5HFYHCRAOLODSA,AFUGIFH5ZAFXRDSZH...</td>\n",
       "      <td>rahuls6099,Swasat Borah,Ajay Wadke,Pranali,RVK...</td>\n",
       "      <td>R1BP4L2HH9TFUP,R16PVJEXKV6QZS,R2UPDB81N66T4P,R...</td>\n",
       "      <td>As good as original,Decent,Good one for second...</td>\n",
       "      <td>Bought this instead of original apple, does th...</td>\n",
       "      <td>https://m.media-amazon.com/images/W/WEBP_40237...</td>\n",
       "      <td>https://www.amazon.in/Portronics-Konnect-POR-1...</td>\n",
       "    </tr>\n",
       "  </tbody>\n",
       "</table>\n",
       "</div>"
      ],
      "text/plain": [
       "   product_id                                       product_name  \\\n",
       "0  B07JW9H4J1  Wayona Nylon Braided USB to Lightning Fast Cha...   \n",
       "1  B098NS6PVG  Ambrane Unbreakable 60W / 3A Fast Charging 1.5...   \n",
       "2  B096MSW6CT  Sounce Fast Phone Charging Cable & Data Sync U...   \n",
       "3  B08HDJ86NZ  boAt Deuce USB 300 2 in 1 Type-C & Micro USB S...   \n",
       "4  B08CF3B7N1  Portronics Konnect L 1.2M Fast Charging 3A 8 P...   \n",
       "\n",
       "                                            category discounted_price  \\\n",
       "0  Computers&Accessories|Accessories&Peripherals|...             ₹399   \n",
       "1  Computers&Accessories|Accessories&Peripherals|...             ₹199   \n",
       "2  Computers&Accessories|Accessories&Peripherals|...             ₹199   \n",
       "3  Computers&Accessories|Accessories&Peripherals|...             ₹329   \n",
       "4  Computers&Accessories|Accessories&Peripherals|...             ₹154   \n",
       "\n",
       "  actual_price discount_percentage rating rating_count  \\\n",
       "0       ₹1,099                 64%    4.2       24,269   \n",
       "1         ₹349                 43%    4.0       43,994   \n",
       "2       ₹1,899                 90%    3.9        7,928   \n",
       "3         ₹699                 53%    4.2       94,363   \n",
       "4         ₹399                 61%    4.2       16,905   \n",
       "\n",
       "                                       about_product  \\\n",
       "0  High Compatibility : Compatible With iPhone 12...   \n",
       "1  Compatible with all Type C enabled devices, be...   \n",
       "2  【 Fast Charger& Data Sync】-With built-in safet...   \n",
       "3  The boAt Deuce USB 300 2 in 1 cable is compati...   \n",
       "4  [CHARGE & SYNC FUNCTION]- This cable comes wit...   \n",
       "\n",
       "                                             user_id  \\\n",
       "0  AG3D6O4STAQKAY2UVGEUV46KN35Q,AHMY5CWJMMK5BJRBB...   \n",
       "1  AECPFYFQVRUWC3KGNLJIOREFP5LQ,AGYYVPDD7YG7FYNBX...   \n",
       "2  AGU3BBQ2V2DDAMOAKGFAWDDQ6QHA,AESFLDV2PT363T2AQ...   \n",
       "3  AEWAZDZZJLQUYVOVGBEUKSLXHQ5A,AG5HTSFRRE6NL3M5S...   \n",
       "4  AE3Q6KSUK5P75D5HFYHCRAOLODSA,AFUGIFH5ZAFXRDSZH...   \n",
       "\n",
       "                                           user_name  \\\n",
       "0  Manav,Adarsh gupta,Sundeep,S.Sayeed Ahmed,jasp...   \n",
       "1  ArdKn,Nirbhay kumar,Sagar Viswanathan,Asp,Plac...   \n",
       "2  Kunal,Himanshu,viswanath,sai niharka,saqib mal...   \n",
       "3  Omkar dhale,JD,HEMALATHA,Ajwadh a.,amar singh ...   \n",
       "4  rahuls6099,Swasat Borah,Ajay Wadke,Pranali,RVK...   \n",
       "\n",
       "                                           review_id  \\\n",
       "0  R3HXWT0LRP0NMF,R2AJM3LFTLZHFO,R6AQJGUP6P86,R1K...   \n",
       "1  RGIQEG07R9HS2,R1SMWZQ86XIN8U,R2J3Y1WL29GWDE,RY...   \n",
       "2  R3J3EQQ9TZI5ZJ,R3E7WBGK7ID0KV,RWU79XKQ6I1QF,R2...   \n",
       "3  R3EEUZKKK9J36I,R3HJVYCLYOY554,REDECAZ7AMPQC,R1...   \n",
       "4  R1BP4L2HH9TFUP,R16PVJEXKV6QZS,R2UPDB81N66T4P,R...   \n",
       "\n",
       "                                        review_title  \\\n",
       "0  Satisfied,Charging is really fast,Value for mo...   \n",
       "1  A Good Braided Cable for Your Type C Device,Go...   \n",
       "2  Good speed for earlier versions,Good Product,W...   \n",
       "3  Good product,Good one,Nice,Really nice product...   \n",
       "4  As good as original,Decent,Good one for second...   \n",
       "\n",
       "                                      review_content  \\\n",
       "0  Looks durable Charging is fine tooNo complains...   \n",
       "1  I ordered this cable to connect my phone to An...   \n",
       "2  Not quite durable and sturdy,https://m.media-a...   \n",
       "3  Good product,long wire,Charges good,Nice,I bou...   \n",
       "4  Bought this instead of original apple, does th...   \n",
       "\n",
       "                                            img_link  \\\n",
       "0  https://m.media-amazon.com/images/W/WEBP_40237...   \n",
       "1  https://m.media-amazon.com/images/W/WEBP_40237...   \n",
       "2  https://m.media-amazon.com/images/W/WEBP_40237...   \n",
       "3  https://m.media-amazon.com/images/I/41V5FtEWPk...   \n",
       "4  https://m.media-amazon.com/images/W/WEBP_40237...   \n",
       "\n",
       "                                        product_link  \n",
       "0  https://www.amazon.in/Wayona-Braided-WN3LG1-Sy...  \n",
       "1  https://www.amazon.in/Ambrane-Unbreakable-Char...  \n",
       "2  https://www.amazon.in/Sounce-iPhone-Charging-C...  \n",
       "3  https://www.amazon.in/Deuce-300-Resistant-Tang...  \n",
       "4  https://www.amazon.in/Portronics-Konnect-POR-1...  "
      ]
     },
     "execution_count": 18,
     "metadata": {},
     "output_type": "execute_result"
    }
   ],
   "source": [
    "df = pd.read_csv('Datasets/amazon.csv')\n",
    "df.head()"
   ]
  },
  {
   "cell_type": "code",
   "execution_count": 19,
   "id": "1aafb9aa",
   "metadata": {},
   "outputs": [
    {
     "data": {
      "text/plain": [
       "Index(['product_id', 'product_name', 'category', 'discounted_price',\n",
       "       'actual_price', 'discount_percentage', 'rating', 'rating_count',\n",
       "       'about_product', 'user_id', 'user_name', 'review_id', 'review_title',\n",
       "       'review_content', 'img_link', 'product_link'],\n",
       "      dtype='object')"
      ]
     },
     "execution_count": 19,
     "metadata": {},
     "output_type": "execute_result"
    }
   ],
   "source": [
    "df.columns"
   ]
  },
  {
   "cell_type": "code",
   "execution_count": 20,
   "id": "87634053",
   "metadata": {},
   "outputs": [
    {
     "name": "stdout",
     "output_type": "stream",
     "text": [
      "<class 'pandas.core.frame.DataFrame'>\n",
      "RangeIndex: 1465 entries, 0 to 1464\n",
      "Data columns (total 16 columns):\n",
      " #   Column               Non-Null Count  Dtype \n",
      "---  ------               --------------  ----- \n",
      " 0   product_id           1465 non-null   object\n",
      " 1   product_name         1465 non-null   object\n",
      " 2   category             1465 non-null   object\n",
      " 3   discounted_price     1465 non-null   object\n",
      " 4   actual_price         1465 non-null   object\n",
      " 5   discount_percentage  1465 non-null   object\n",
      " 6   rating               1465 non-null   object\n",
      " 7   rating_count         1463 non-null   object\n",
      " 8   about_product        1465 non-null   object\n",
      " 9   user_id              1465 non-null   object\n",
      " 10  user_name            1465 non-null   object\n",
      " 11  review_id            1465 non-null   object\n",
      " 12  review_title         1465 non-null   object\n",
      " 13  review_content       1465 non-null   object\n",
      " 14  img_link             1465 non-null   object\n",
      " 15  product_link         1465 non-null   object\n",
      "dtypes: object(16)\n",
      "memory usage: 183.3+ KB\n"
     ]
    }
   ],
   "source": [
    "df.info()"
   ]
  },
  {
   "cell_type": "code",
   "execution_count": 21,
   "id": "5beb9aff",
   "metadata": {},
   "outputs": [],
   "source": [
    "df['discount_percentage'] = df['discount_percentage'].str.replace('%', '')\n",
    "\n",
    "df['discounted_price'] = df['discounted_price'].str.replace('₹', '')\n",
    "df['discounted_price'] = df['discounted_price'].str.replace(',', '').astype(float)\n",
    "df['actual_price'] = df['actual_price'].str.replace('₹','')\n",
    "df['actual_price'] = df['actual_price'].str.replace(',','').astype(float)"
   ]
  },
  {
   "cell_type": "code",
   "execution_count": 22,
   "id": "3ba60eca",
   "metadata": {},
   "outputs": [
    {
     "data": {
      "application/vnd.microsoft.datawrangler.viewer.v0+json": {
       "columns": [
        {
         "name": "index",
         "rawType": "int64",
         "type": "integer"
        },
        {
         "name": "rating",
         "rawType": "float64",
         "type": "float"
        }
       ],
       "ref": "bd6cfaa0-fcde-43a9-9849-3a891a4d9726",
       "rows": [
        [
         "0",
         "4.2"
        ],
        [
         "1",
         "4.0"
        ],
        [
         "2",
         "3.9"
        ],
        [
         "3",
         "4.2"
        ],
        [
         "4",
         "4.2"
        ],
        [
         "5",
         "3.9"
        ],
        [
         "6",
         "4.1"
        ],
        [
         "7",
         "4.3"
        ],
        [
         "8",
         "4.2"
        ],
        [
         "9",
         "4.0"
        ],
        [
         "10",
         "4.3"
        ],
        [
         "11",
         "4.2"
        ],
        [
         "12",
         "4.4"
        ],
        [
         "13",
         "4.2"
        ],
        [
         "14",
         "4.1"
        ],
        [
         "15",
         "4.4"
        ],
        [
         "16",
         "4.2"
        ],
        [
         "17",
         "4.0"
        ],
        [
         "18",
         "4.1"
        ],
        [
         "19",
         "4.3"
        ],
        [
         "20",
         "4.5"
        ],
        [
         "21",
         "3.7"
        ],
        [
         "22",
         "4.3"
        ],
        [
         "23",
         "4.0"
        ],
        [
         "24",
         "4.3"
        ],
        [
         "25",
         "4.2"
        ],
        [
         "26",
         "4.2"
        ],
        [
         "27",
         "4.0"
        ],
        [
         "28",
         "4.4"
        ],
        [
         "29",
         "4.3"
        ],
        [
         "30",
         "4.5"
        ],
        [
         "31",
         "4.0"
        ],
        [
         "32",
         "4.3"
        ],
        [
         "33",
         "4.3"
        ],
        [
         "34",
         "3.9"
        ],
        [
         "35",
         "3.9"
        ],
        [
         "36",
         "4.4"
        ],
        [
         "37",
         "4.0"
        ],
        [
         "38",
         "4.2"
        ],
        [
         "39",
         "4.2"
        ],
        [
         "40",
         "4.5"
        ],
        [
         "41",
         "4.3"
        ],
        [
         "42",
         "4.2"
        ],
        [
         "43",
         "4.3"
        ],
        [
         "44",
         "4.0"
        ],
        [
         "45",
         "3.3"
        ],
        [
         "46",
         "4.1"
        ],
        [
         "47",
         "4.4"
        ],
        [
         "48",
         "3.6"
        ],
        [
         "49",
         "4.2"
        ]
       ],
       "shape": {
        "columns": 1,
        "rows": 1465
       }
      },
      "text/plain": [
       "0       4.2\n",
       "1       4.0\n",
       "2       3.9\n",
       "3       4.2\n",
       "4       4.2\n",
       "       ... \n",
       "1460    4.0\n",
       "1461    4.1\n",
       "1462    3.6\n",
       "1463    4.0\n",
       "1464    4.3\n",
       "Name: rating, Length: 1465, dtype: float64"
      ]
     },
     "execution_count": 22,
     "metadata": {},
     "output_type": "execute_result"
    }
   ],
   "source": [
    "df['rating'] = pd.to_numeric(df['rating'], errors = 'coerce')\n",
    "df['rating']"
   ]
  },
  {
   "cell_type": "code",
   "execution_count": 23,
   "id": "a20fe91e",
   "metadata": {},
   "outputs": [
    {
     "name": "stdout",
     "output_type": "stream",
     "text": [
      "<class 'pandas.core.frame.DataFrame'>\n",
      "RangeIndex: 1465 entries, 0 to 1464\n",
      "Data columns (total 16 columns):\n",
      " #   Column               Non-Null Count  Dtype  \n",
      "---  ------               --------------  -----  \n",
      " 0   product_id           1465 non-null   object \n",
      " 1   product_name         1465 non-null   object \n",
      " 2   category             1465 non-null   object \n",
      " 3   discounted_price     1465 non-null   float64\n",
      " 4   actual_price         1465 non-null   float64\n",
      " 5   discount_percentage  1465 non-null   object \n",
      " 6   rating               1464 non-null   float64\n",
      " 7   rating_count         1463 non-null   object \n",
      " 8   about_product        1465 non-null   object \n",
      " 9   user_id              1465 non-null   object \n",
      " 10  user_name            1465 non-null   object \n",
      " 11  review_id            1465 non-null   object \n",
      " 12  review_title         1465 non-null   object \n",
      " 13  review_content       1465 non-null   object \n",
      " 14  img_link             1465 non-null   object \n",
      " 15  product_link         1465 non-null   object \n",
      "dtypes: float64(3), object(13)\n",
      "memory usage: 183.3+ KB\n"
     ]
    }
   ],
   "source": [
    "df.info()"
   ]
  },
  {
   "cell_type": "code",
   "execution_count": 24,
   "id": "c4ca4bad",
   "metadata": {},
   "outputs": [
    {
     "data": {
      "application/vnd.microsoft.datawrangler.viewer.v0+json": {
       "columns": [
        {
         "name": "index",
         "rawType": "int64",
         "type": "integer"
        },
        {
         "name": "product_id",
         "rawType": "object",
         "type": "string"
        },
        {
         "name": "product_name",
         "rawType": "object",
         "type": "string"
        },
        {
         "name": "category",
         "rawType": "object",
         "type": "string"
        },
        {
         "name": "discounted_price",
         "rawType": "float64",
         "type": "float"
        },
        {
         "name": "actual_price",
         "rawType": "float64",
         "type": "float"
        },
        {
         "name": "discount_percentage",
         "rawType": "object",
         "type": "string"
        },
        {
         "name": "rating",
         "rawType": "float64",
         "type": "float"
        },
        {
         "name": "rating_count",
         "rawType": "object",
         "type": "unknown"
        },
        {
         "name": "about_product",
         "rawType": "object",
         "type": "string"
        },
        {
         "name": "user_id",
         "rawType": "object",
         "type": "string"
        },
        {
         "name": "user_name",
         "rawType": "object",
         "type": "string"
        },
        {
         "name": "review_id",
         "rawType": "object",
         "type": "string"
        },
        {
         "name": "review_title",
         "rawType": "object",
         "type": "string"
        },
        {
         "name": "review_content",
         "rawType": "object",
         "type": "string"
        },
        {
         "name": "img_link",
         "rawType": "object",
         "type": "string"
        },
        {
         "name": "product_link",
         "rawType": "object",
         "type": "string"
        }
       ],
       "ref": "98c24594-586e-4f29-a45e-83c9d7660d25",
       "rows": [
        [
         "282",
         "B0B94JPY2N",
         "Amazon Brand - Solimo 65W Fast Charging Braided Type C to C Data Cable | Suitable For All Supported Mobile Phones (1 Meter, Black)",
         "Computers&Accessories|Accessories&Peripherals|Cables&Accessories|Cables|USBCables",
         "199.0",
         "999.0",
         "80",
         "3.0",
         null,
         "USB C to C Cable: This cable has type C connector at both ends and a USB C type wall charger/adapter will be required to be used with this cable|Durable and sturdy: 1 meter long cable with 5mm thickness|65W fast charging up to 4A/ 65W|Comes with Smart Charge Auto Detect Technology|The cable supports data transfer at a speed of 480Mbps|Prevents overheating and overcharging with several built-in safeguards|Suitable for all major smartphones including OnePlus, Xiaomi, Realme, Oppo, etc.",
         "AE7CFHY23VAJT2FI4NZKKP6GS2UQ",
         "Pranav",
         "RUB7U91HVZ30",
         "The cable works but is not 65W as advertised",
         "I have a pd supported car charger and I bought solimo cables previously which work perfectly fine but this one doesn't trigger full 3A fast charging unlike solimo usb a to usb c, which is strange because this is supposed to be a 65W charger with 4A fast charging support.Anyways it's a good built product and works but not as expected. It might be compatible with your chargers but I tested 2 different car chargers and both didn't go full speed.",
         "https://m.media-amazon.com/images/W/WEBP_402378-T2/images/I/41Vpx5MVtaL._SY300_SX300_QL70_FMwebp_.jpg",
         "https://www.amazon.in/Amazon-Brand-Charging-Suitable-Supported/dp/B0B94JPY2N/ref=sr_1_444?qid=1672909146&s=electronics&sr=1-444"
        ],
        [
         "324",
         "B0BQRJ3C47",
         "REDTECH USB-C to Lightning Cable 3.3FT, [Apple MFi Certified] Lightning to Type C Fast Charging Cord Compatible with iPhone 14/13/13 pro/Max/12/11/X/XS/XR/8, Supports Power Delivery - White",
         "Computers&Accessories|Accessories&Peripherals|Cables&Accessories|Cables|USBCables",
         "249.0",
         "999.0",
         "75",
         "5.0",
         null,
         "💎[The Fastest Charge] - This iPhone USB C cable supports PD 3.0 fast charging, up to 20W with USB-C Power Delivery adapters such as 18W, 20W, 29W, 30W, 61W, or 87W. Charge your iPhone from 0% to 50% in just 25 mins, and data transfer speeds up to 480Mbps (1200 songs synced per minute)|💎[Amazing Durability] - With top-rated material and coated with premium TPE, Syncwire Apple USB C cable has exceptional durability to be bent at 90 degrees for 15000+ times and the connector is capable of holding up to 20kg of weight without falling off.|💎[Perfect Compatibility] - Syncwire Type C to lightning cable supports PD Fast Charge 3A (max) for iPhone 14, iPhone 14 Pro, iPhone 14 Pro Max, iPhone 13 mini, iPhone 13 pro max, iPhone 13, iPhone 12 Pro, iPhone 12 Pro max, iPhone 11, iPhone 11 Pro, iPhone 11 Pro Max, iPhone 8, iPhone 8 Plus, iPhone X, iPhone XS, iPhone XR, iPhone XS Max, iPad 8, iPad Pro (10.5-inch), iPad Pro (12.9-inch) 1st generation, iPad Pro (12.9-inch) 2nd generation.|Apple MFi Certified - Lightning cable ensure 100% compatibility with iPhone 14, 13, 13 Pro, 13 Pro Max, 13 Mini, 12, 12 Mini, 12 Pro, 12 Pro Max, SE 2020, iPhone 11, 11 Pro, 11 Pro Max, XR , Xs , Xs Max, X, 8, 8 plus, and iPad|20W Fast Charging Cable: USB C to lightning cable supports safe high-speed charging and fast data transfer,working better and quick charge your devices.(Note:You need to use 20W or above USB-C power adapter to achieve power delivery fast charge.)",
         "AGJC5O5H5BBXWUV7WRIEIOOR3TVQ",
         "Abdul Gafur",
         "RQXD5SAMMPC6L",
         "Awesome Product",
         "Quick delivery.Awesome ProductPacking was goodJust opened the productExcited to you it",
         "https://m.media-amazon.com/images/I/31-q0xhaTAL._SY445_SX342_QL70_FMwebp_.jpg",
         "https://www.amazon.in/REDTECH-Lightning-Certified-Charging-Compatible/dp/B0BQRJ3C47/ref=sr_1_491?qid=1672909149&s=electronics&sr=1-491"
        ],
        [
         "1279",
         "B08L12N5H1",
         "Eureka Forbes car Vac 100 Watts Powerful Suction Vacuum Cleaner with Washable HEPA Filter, 3 Accessories,Compact,Light Weight & Easy to use (Black and Red)",
         "Home&Kitchen|Kitchen&HomeAppliances|Vacuum,Cleaning&Ironing|Vacuums&FloorCare|Vacuums|HandheldVacuums",
         "2099.0",
         "2499.0",
         "16",
         null,
         "992",
         "No Installation is provided for this product|100 Watts Powerful Motor|Powerful Suction|In-Built LED Torch|Range of accessories for different cleaning needs|Fit type: Universal Fit",
         "AGTDSNT2FKVYEPDPXAA673AIS44A,AER2XFSWNN4LAUCJ55IY5SOMF7WA,AE3MSW6H3AL6F3ZGR5LCN5AHJO6A,AG5OL5WIIPJBY25HISJLM5K2UBTQ,AGHFSIBYVYXUGSNYUDAHBGOIZ3KQ,AHYH6AZT3U3U44CDW5Y563UYIIUA,AFLOAOURRZZZGFBF7F6IKGXRB6NQ,AGNWBYEVAIII4MPQNKN3LFVOHYZQ",
         "Divya,Dr Nefario,Deekshith,Preeti,Prasanth R,Pradeep kashiram Tetgure.,Abhijin Janardhan,Prashant",
         "R2KKTKM4M9RDVJ,R1O692MZOBTE79,R2WRSEWL56SOS4,R3VZRQJOKCBSH4,R2QI4626ASSCIT,R1TFFJ5ON6ATEO,R14JK9VQCXXEKU,R1V4J4B7RXHG8T",
         "Decent product,doesn't pick up sand,Ok ok,Must Buy,Good one for basic use with normal suction power,Super,First review,Perfect product for my car",
         "Does the job well,doesn't work on sand. though the suction is very good, the sand stays back no matter which lead you use.,Ok ok,Easy to use product (I used it for the first time without knowing the know-how of its use). Cleans almost 90% of your mess inside the car. Highly recommended.,Pros: look and feel, easy to hold and handle, Cord length, useful led light during night, normal suction power but good enough for general useCons: noise is bit loud, suction power could be better,Good,Hmm,Strudy design, quality accessories,reputated brand.I have seen some car vaccum cleaners especially the low cost one's where dust comes out of machine due to poor locking mechanism, so ofcourse you don't want the dust to be falling back when the sole purpose is to remove it!!!You get what you pay for, I have home vaccum clear from same company with has a good suction and does the job well, I wanted a battery pluggable clearner where I can use it anywhere.Believe me no vaccum cleaner is good enough for heavily soiled cars, so if you are expecting a commercial level cleaning the don't buy any.Car vaccum cleaner is a portable device which gives decent satisfaction but not a perfect, I have seen some people who do not take out mats and just shove the cleaner in it and say it's not good.Mats need to be take out which actually collects big dust and derbies, this poor small machine can't handle a 100% cleaning on that.If the car is heavily soiled the you must get it cleaned at a professional clearner then start using the small one.I found this to be doing the job when compared to my house vaccum clearner.One thing I observed was the wires was getting hot and has a soft component which makes it even thinner when it's hit but I think I can handle the job, accessories quality is good and fir and finishe is good.I did not seen any dust seeping through the compartment and it was well contained in the dust chamber.Suction is decent and you can give almost a clean and tidy look to your car with this machine, again a professional grade cleaners can doa good job which cost nothing less tha 15K.I would say worth a buy it used delligently by not expecting too much.I only hope if the company can provide a bag to carry it for the price or find one in your own which can fit your needs.,Perfect",
         "https://m.media-amazon.com/images/W/WEBP_402378-T1/images/I/41lZEy8e9DL._SX300_SY300_QL70_FMwebp_.jpg",
         "https://www.amazon.in/Eureka-Forbes-Vacuum-Cleaner-Washable/dp/B08L12N5H1/ref=sr_1_295?qid=1672923607&s=kitchen&sr=1-295"
        ]
       ],
       "shape": {
        "columns": 16,
        "rows": 3
       }
      },
      "text/html": [
       "<div>\n",
       "<style scoped>\n",
       "    .dataframe tbody tr th:only-of-type {\n",
       "        vertical-align: middle;\n",
       "    }\n",
       "\n",
       "    .dataframe tbody tr th {\n",
       "        vertical-align: top;\n",
       "    }\n",
       "\n",
       "    .dataframe thead th {\n",
       "        text-align: right;\n",
       "    }\n",
       "</style>\n",
       "<table border=\"1\" class=\"dataframe\">\n",
       "  <thead>\n",
       "    <tr style=\"text-align: right;\">\n",
       "      <th></th>\n",
       "      <th>product_id</th>\n",
       "      <th>product_name</th>\n",
       "      <th>category</th>\n",
       "      <th>discounted_price</th>\n",
       "      <th>actual_price</th>\n",
       "      <th>discount_percentage</th>\n",
       "      <th>rating</th>\n",
       "      <th>rating_count</th>\n",
       "      <th>about_product</th>\n",
       "      <th>user_id</th>\n",
       "      <th>user_name</th>\n",
       "      <th>review_id</th>\n",
       "      <th>review_title</th>\n",
       "      <th>review_content</th>\n",
       "      <th>img_link</th>\n",
       "      <th>product_link</th>\n",
       "    </tr>\n",
       "  </thead>\n",
       "  <tbody>\n",
       "    <tr>\n",
       "      <th>282</th>\n",
       "      <td>B0B94JPY2N</td>\n",
       "      <td>Amazon Brand - Solimo 65W Fast Charging Braide...</td>\n",
       "      <td>Computers&amp;Accessories|Accessories&amp;Peripherals|...</td>\n",
       "      <td>199.0</td>\n",
       "      <td>999.0</td>\n",
       "      <td>80</td>\n",
       "      <td>3.0</td>\n",
       "      <td>NaN</td>\n",
       "      <td>USB C to C Cable: This cable has type C connec...</td>\n",
       "      <td>AE7CFHY23VAJT2FI4NZKKP6GS2UQ</td>\n",
       "      <td>Pranav</td>\n",
       "      <td>RUB7U91HVZ30</td>\n",
       "      <td>The cable works but is not 65W as advertised</td>\n",
       "      <td>I have a pd supported car charger and I bought...</td>\n",
       "      <td>https://m.media-amazon.com/images/W/WEBP_40237...</td>\n",
       "      <td>https://www.amazon.in/Amazon-Brand-Charging-Su...</td>\n",
       "    </tr>\n",
       "    <tr>\n",
       "      <th>324</th>\n",
       "      <td>B0BQRJ3C47</td>\n",
       "      <td>REDTECH USB-C to Lightning Cable 3.3FT, [Apple...</td>\n",
       "      <td>Computers&amp;Accessories|Accessories&amp;Peripherals|...</td>\n",
       "      <td>249.0</td>\n",
       "      <td>999.0</td>\n",
       "      <td>75</td>\n",
       "      <td>5.0</td>\n",
       "      <td>NaN</td>\n",
       "      <td>💎[The Fastest Charge] - This iPhone USB C cabl...</td>\n",
       "      <td>AGJC5O5H5BBXWUV7WRIEIOOR3TVQ</td>\n",
       "      <td>Abdul Gafur</td>\n",
       "      <td>RQXD5SAMMPC6L</td>\n",
       "      <td>Awesome Product</td>\n",
       "      <td>Quick delivery.Awesome ProductPacking was good...</td>\n",
       "      <td>https://m.media-amazon.com/images/I/31-q0xhaTA...</td>\n",
       "      <td>https://www.amazon.in/REDTECH-Lightning-Certif...</td>\n",
       "    </tr>\n",
       "    <tr>\n",
       "      <th>1279</th>\n",
       "      <td>B08L12N5H1</td>\n",
       "      <td>Eureka Forbes car Vac 100 Watts Powerful Sucti...</td>\n",
       "      <td>Home&amp;Kitchen|Kitchen&amp;HomeAppliances|Vacuum,Cle...</td>\n",
       "      <td>2099.0</td>\n",
       "      <td>2499.0</td>\n",
       "      <td>16</td>\n",
       "      <td>NaN</td>\n",
       "      <td>992</td>\n",
       "      <td>No Installation is provided for this product|1...</td>\n",
       "      <td>AGTDSNT2FKVYEPDPXAA673AIS44A,AER2XFSWNN4LAUCJ5...</td>\n",
       "      <td>Divya,Dr Nefario,Deekshith,Preeti,Prasanth R,P...</td>\n",
       "      <td>R2KKTKM4M9RDVJ,R1O692MZOBTE79,R2WRSEWL56SOS4,R...</td>\n",
       "      <td>Decent product,doesn't pick up sand,Ok ok,Must...</td>\n",
       "      <td>Does the job well,doesn't work on sand. though...</td>\n",
       "      <td>https://m.media-amazon.com/images/W/WEBP_40237...</td>\n",
       "      <td>https://www.amazon.in/Eureka-Forbes-Vacuum-Cle...</td>\n",
       "    </tr>\n",
       "  </tbody>\n",
       "</table>\n",
       "</div>"
      ],
      "text/plain": [
       "      product_id                                       product_name  \\\n",
       "282   B0B94JPY2N  Amazon Brand - Solimo 65W Fast Charging Braide...   \n",
       "324   B0BQRJ3C47  REDTECH USB-C to Lightning Cable 3.3FT, [Apple...   \n",
       "1279  B08L12N5H1  Eureka Forbes car Vac 100 Watts Powerful Sucti...   \n",
       "\n",
       "                                               category  discounted_price  \\\n",
       "282   Computers&Accessories|Accessories&Peripherals|...             199.0   \n",
       "324   Computers&Accessories|Accessories&Peripherals|...             249.0   \n",
       "1279  Home&Kitchen|Kitchen&HomeAppliances|Vacuum,Cle...            2099.0   \n",
       "\n",
       "      actual_price discount_percentage  rating rating_count  \\\n",
       "282          999.0                  80     3.0          NaN   \n",
       "324          999.0                  75     5.0          NaN   \n",
       "1279        2499.0                  16     NaN          992   \n",
       "\n",
       "                                          about_product  \\\n",
       "282   USB C to C Cable: This cable has type C connec...   \n",
       "324   💎[The Fastest Charge] - This iPhone USB C cabl...   \n",
       "1279  No Installation is provided for this product|1...   \n",
       "\n",
       "                                                user_id  \\\n",
       "282                        AE7CFHY23VAJT2FI4NZKKP6GS2UQ   \n",
       "324                        AGJC5O5H5BBXWUV7WRIEIOOR3TVQ   \n",
       "1279  AGTDSNT2FKVYEPDPXAA673AIS44A,AER2XFSWNN4LAUCJ5...   \n",
       "\n",
       "                                              user_name  \\\n",
       "282                                              Pranav   \n",
       "324                                         Abdul Gafur   \n",
       "1279  Divya,Dr Nefario,Deekshith,Preeti,Prasanth R,P...   \n",
       "\n",
       "                                              review_id  \\\n",
       "282                                        RUB7U91HVZ30   \n",
       "324                                       RQXD5SAMMPC6L   \n",
       "1279  R2KKTKM4M9RDVJ,R1O692MZOBTE79,R2WRSEWL56SOS4,R...   \n",
       "\n",
       "                                           review_title  \\\n",
       "282        The cable works but is not 65W as advertised   \n",
       "324                                     Awesome Product   \n",
       "1279  Decent product,doesn't pick up sand,Ok ok,Must...   \n",
       "\n",
       "                                         review_content  \\\n",
       "282   I have a pd supported car charger and I bought...   \n",
       "324   Quick delivery.Awesome ProductPacking was good...   \n",
       "1279  Does the job well,doesn't work on sand. though...   \n",
       "\n",
       "                                               img_link  \\\n",
       "282   https://m.media-amazon.com/images/W/WEBP_40237...   \n",
       "324   https://m.media-amazon.com/images/I/31-q0xhaTA...   \n",
       "1279  https://m.media-amazon.com/images/W/WEBP_40237...   \n",
       "\n",
       "                                           product_link  \n",
       "282   https://www.amazon.in/Amazon-Brand-Charging-Su...  \n",
       "324   https://www.amazon.in/REDTECH-Lightning-Certif...  \n",
       "1279  https://www.amazon.in/Eureka-Forbes-Vacuum-Cle...  "
      ]
     },
     "execution_count": 24,
     "metadata": {},
     "output_type": "execute_result"
    }
   ],
   "source": [
    "df[df.isnull().any(axis = 1)]"
   ]
  },
  {
   "cell_type": "code",
   "execution_count": 25,
   "id": "407229e2",
   "metadata": {},
   "outputs": [
    {
     "data": {
      "application/vnd.microsoft.datawrangler.viewer.v0+json": {
       "columns": [
        {
         "name": "index",
         "rawType": "int64",
         "type": "integer"
        },
        {
         "name": "discount_percentage",
         "rawType": "float64",
         "type": "float"
        }
       ],
       "ref": "b80dded2-4e04-451b-b359-ef6df6cf34aa",
       "rows": [
        [
         "0",
         "0.64"
        ],
        [
         "1",
         "0.43"
        ],
        [
         "2",
         "0.9"
        ],
        [
         "3",
         "0.53"
        ],
        [
         "4",
         "0.61"
        ],
        [
         "5",
         "0.85"
        ],
        [
         "6",
         "0.65"
        ],
        [
         "7",
         "0.23"
        ],
        [
         "8",
         "0.5"
        ],
        [
         "9",
         "0.33"
        ],
        [
         "10",
         "0.55"
        ],
        [
         "11",
         "0.63"
        ],
        [
         "12",
         "0.69"
        ],
        [
         "13",
         "0.61"
        ],
        [
         "14",
         "0.6"
        ],
        [
         "15",
         "0.13"
        ],
        [
         "16",
         "0.44"
        ],
        [
         "17",
         "0.38"
        ],
        [
         "18",
         "0.6"
        ],
        [
         "19",
         "0.39"
        ],
        [
         "20",
         "0.46"
        ],
        [
         "21",
         "0.44"
        ],
        [
         "22",
         "0.41"
        ],
        [
         "23",
         "0.7"
        ],
        [
         "24",
         "0.42"
        ],
        [
         "25",
         "0.72"
        ],
        [
         "26",
         "0.25"
        ],
        [
         "27",
         "0.25"
        ],
        [
         "28",
         "0.51"
        ],
        [
         "29",
         "0.7"
        ],
        [
         "30",
         "0.73"
        ],
        [
         "31",
         "0.64"
        ],
        [
         "32",
         "0.65"
        ],
        [
         "33",
         "0.0"
        ],
        [
         "34",
         "0.8"
        ],
        [
         "35",
         "0.85"
        ],
        [
         "36",
         "0.53"
        ],
        [
         "37",
         "0.8"
        ],
        [
         "38",
         "0.28"
        ],
        [
         "39",
         "0.51"
        ],
        [
         "40",
         "0.7"
        ],
        [
         "41",
         "0.43"
        ],
        [
         "42",
         "0.64"
        ],
        [
         "43",
         "0.38"
        ],
        [
         "44",
         "0.7"
        ],
        [
         "45",
         "0.67"
        ],
        [
         "46",
         "0.58"
        ],
        [
         "47",
         "0.35"
        ],
        [
         "48",
         "0.6"
        ],
        [
         "49",
         "0.5"
        ]
       ],
       "shape": {
        "columns": 1,
        "rows": 1465
       }
      },
      "text/plain": [
       "0       0.64\n",
       "1       0.43\n",
       "2       0.90\n",
       "3       0.53\n",
       "4       0.61\n",
       "        ... \n",
       "1460    0.59\n",
       "1461    0.25\n",
       "1462    0.28\n",
       "1463    0.26\n",
       "1464    0.22\n",
       "Name: discount_percentage, Length: 1465, dtype: float64"
      ]
     },
     "execution_count": 25,
     "metadata": {},
     "output_type": "execute_result"
    }
   ],
   "source": [
    "df['discount_percentage'] = df['discount_percentage'].astype('float64')\n",
    "df['discount_percentage'] = df['discount_percentage']/100\n",
    "df['discount_percentage']"
   ]
  },
  {
   "cell_type": "code",
   "execution_count": 26,
   "id": "09737762",
   "metadata": {},
   "outputs": [],
   "source": [
    "from sklearn.preprocessing import LabelEncoder\n",
    "\n",
    "le = LabelEncoder()\n",
    "df['product_id'] = le.fit_transform(df['product_id'])\n",
    "df['product_name'] = le.fit_transform(df['product_name'])\n",
    "df['category'] = le.fit_transform(df['category'])\n",
    "df['about_product'] = le.fit_transform(df['about_product'])\n",
    "df['user_name'] = le.fit_transform(df['user_name'])\n",
    "df['user_id'] = le.fit_transform(df['user_id'])\n",
    "df['review_id'] = le.fit_transform(df['review_id'])\n",
    "df['review_title'] = le.fit_transform(df['review_title'])\n",
    "df['review_content'] = le.fit_transform(df['review_content'])\n",
    "df['img_link'] = le.fit_transform(df['img_link'])\n",
    "df['product_link'] = le.fit_transform(df['product_link'])"
   ]
  },
  {
   "cell_type": "code",
   "execution_count": 27,
   "id": "fa125360",
   "metadata": {},
   "outputs": [
    {
     "data": {
      "application/vnd.microsoft.datawrangler.viewer.v0+json": {
       "columns": [
        {
         "name": "index",
         "rawType": "int64",
         "type": "integer"
        },
        {
         "name": "product_id",
         "rawType": "int64",
         "type": "integer"
        },
        {
         "name": "product_name",
         "rawType": "int64",
         "type": "integer"
        },
        {
         "name": "category",
         "rawType": "int64",
         "type": "integer"
        },
        {
         "name": "discounted_price",
         "rawType": "float64",
         "type": "float"
        },
        {
         "name": "actual_price",
         "rawType": "float64",
         "type": "float"
        },
        {
         "name": "discount_percentage",
         "rawType": "float64",
         "type": "float"
        },
        {
         "name": "rating",
         "rawType": "float64",
         "type": "float"
        },
        {
         "name": "rating_count",
         "rawType": "object",
         "type": "unknown"
        },
        {
         "name": "about_product",
         "rawType": "int64",
         "type": "integer"
        },
        {
         "name": "user_id",
         "rawType": "int64",
         "type": "integer"
        },
        {
         "name": "user_name",
         "rawType": "int64",
         "type": "integer"
        },
        {
         "name": "review_id",
         "rawType": "int64",
         "type": "integer"
        },
        {
         "name": "review_title",
         "rawType": "int64",
         "type": "integer"
        },
        {
         "name": "review_content",
         "rawType": "int64",
         "type": "integer"
        },
        {
         "name": "img_link",
         "rawType": "int64",
         "type": "integer"
        },
        {
         "name": "product_link",
         "rawType": "int64",
         "type": "integer"
        }
       ],
       "ref": "dccaf953-9322-4a1c-8888-acb90db08e34",
       "rows": [
        [
         "0",
         "346",
         "1158",
         "10",
         "399.0",
         "1099.0",
         "0.64",
         "4.2",
         "24,269",
         "474",
         "623",
         "522",
         "817",
         "881",
         "604",
         "1118",
         "1308"
        ],
        [
         "1",
         "848",
         "134",
         "10",
         "199.0",
         "349.0",
         "0.43",
         "4.0",
         "43,994",
         "279",
         "88",
         "207",
         "1025",
         "7",
         "413",
         "1248",
         "157"
        ],
        [
         "2",
         "819",
         "1023",
         "10",
         "199.0",
         "1899.0",
         "0.9",
         "3.9",
         "7,928",
         "1250",
         "849",
         "482",
         "827",
         "422",
         "674",
         "876",
         "1160"
        ],
        [
         "3",
         "643",
         "1264",
         "10",
         "329.0",
         "699.0",
         "0.53",
         "4.2",
         "94,363",
         "1010",
         "254",
         "614",
         "786",
         "376",
         "269",
         "518",
         "380"
        ],
        [
         "4",
         "588",
         "829",
         "10",
         "154.0",
         "399.0",
         "0.61",
         "4.2",
         "16,905",
         "1189",
         "17",
         "1139",
         "114",
         "44",
         "120",
         "1209",
         "919"
        ],
        [
         "5",
         "771",
         "1328",
         "10",
         "149.0",
         "1000.0",
         "0.85",
         "3.9",
         "24,871",
         "399",
         "210",
         "428",
         "961",
         "604",
         "518",
         "277",
         "1145"
        ],
        [
         "6",
         "761",
         "1271",
         "10",
         "176.63",
         "499.0",
         "0.65",
         "4.1",
         "15,188",
         "522",
         "662",
         "1040",
         "969",
         "642",
         "123",
         "1345",
         "1412"
        ],
        [
         "7",
         "614",
         "658",
         "10",
         "229.0",
         "299.0",
         "0.23",
         "4.3",
         "30,411",
         "57",
         "1162",
         "631",
         "637",
         "1108",
         "1122",
         "176",
         "728"
        ],
        [
         "8",
         "15",
         "1080",
         "49",
         "499.0",
         "999.0",
         "0.5",
         "4.2",
         "1,79,691",
         "1094",
         "859",
         "244",
         "205",
         "1089",
         "434",
         "1217",
         "1216"
        ],
        [
         "9",
         "515",
         "133",
         "10",
         "199.0",
         "299.0",
         "0.33",
         "4.0",
         "43,994",
         "1109",
         "88",
         "207",
         "1025",
         "7",
         "413",
         "1226",
         "153"
        ],
        [
         "10",
         "589",
         "834",
         "10",
         "154.0",
         "339.0",
         "0.55",
         "4.3",
         "13,391",
         "1187",
         "891",
         "969",
         "12",
         "298",
         "884",
         "197",
         "929"
        ],
        [
         "11",
         "262",
         "1281",
         "10",
         "299.0",
         "799.0",
         "0.63",
         "4.2",
         "94,363",
         "1014",
         "254",
         "614",
         "786",
         "376",
         "269",
         "502",
         "1032"
        ],
        [
         "12",
         "356",
         "101",
         "89",
         "219.0",
         "700.0",
         "0.69",
         "4.4",
         "4,26,973",
         "426",
         "279",
         "756",
         "151",
         "606",
         "336",
         "656",
         "105"
        ],
        [
         "13",
         "555",
         "828",
         "10",
         "350.0",
         "899.0",
         "0.61",
         "4.2",
         "2,262",
         "1185",
         "851",
         "681",
         "249",
         "1094",
         "149",
         "120",
         "914"
        ],
        [
         "14",
         "939",
         "830",
         "10",
         "159.0",
         "399.0",
         "0.6",
         "4.1",
         "4,768",
         "1189",
         "304",
         "296",
         "341",
         "517",
         "608",
         "1318",
         "923"
        ],
        [
         "15",
         "522",
         "655",
         "10",
         "349.0",
         "399.0",
         "0.13",
         "4.4",
         "18,757",
         "54",
         "830",
         "264",
         "513",
         "401",
         "391",
         "909",
         "748"
        ],
        [
         "16",
         "1232",
         "653",
         "97",
         "13999.0",
         "24999.0",
         "0.44",
         "4.2",
         "32,840",
         "669",
         "1008",
         "536",
         "33",
         "586",
         "772",
         "800",
         "729"
        ],
        [
         "17",
         "514",
         "135",
         "10",
         "249.0",
         "399.0",
         "0.38",
         "4.0",
         "43,994",
         "280",
         "88",
         "207",
         "1025",
         "7",
         "413",
         "581",
         "156"
        ],
        [
         "18",
         "759",
         "1285",
         "10",
         "199.0",
         "499.0",
         "0.6",
         "4.1",
         "13,045",
         "1080",
         "372",
         "765",
         "428",
         "296",
         "137",
         "1102",
         "1395"
        ],
        [
         "19",
         "615",
         "573",
         "97",
         "13490.0",
         "21990.0",
         "0.39",
         "4.3",
         "11,976",
         "883",
         "981",
         "568",
         "574",
         "912",
         "578",
         "1409",
         "651"
        ],
        [
         "20",
         "877",
         "325",
         "10",
         "970.0",
         "1799.0",
         "0.46",
         "4.5",
         "815",
         "983",
         "489",
         "662",
         "19",
         "284",
         "432",
         "1023",
         "368"
        ],
        [
         "21",
         "550",
         "1336",
         "89",
         "279.0",
         "499.0",
         "0.44",
         "3.7",
         "10,962",
         "975",
         "196",
         "1063",
         "161",
         "333",
         "967",
         "881",
         "52"
        ],
        [
         "22",
         "895",
         "962",
         "97",
         "13490.0",
         "22900.0",
         "0.41",
         "4.3",
         "16,299",
         "887",
         "1007",
         "695",
         "270",
         "488",
         "707",
         "1132",
         "1081"
        ],
        [
         "23",
         "985",
         "394",
         "10",
         "59.0",
         "199.0",
         "0.7",
         "4.0",
         "9,378",
         "623",
         "1048",
         "0",
         "797",
         "1076",
         "1101",
         "256",
         "480"
        ],
        [
         "24",
         "1138",
         "46",
         "97",
         "11499.0",
         "19990.0",
         "0.42",
         "4.3",
         "4,703",
         "856",
         "537",
         "243",
         "140",
         "1074",
         "54",
         "610",
         "43"
        ],
        [
         "25",
         "197",
         "1098",
         "89",
         "199.0",
         "699.0",
         "0.72",
         "4.2",
         "12,153",
         "559",
         "866",
         "1053",
         "453",
         "123",
         "946",
         "584",
         "1202"
        ],
        [
         "26",
         "579",
         "738",
         "97",
         "14999.0",
         "19999.0",
         "0.25",
         "4.2",
         "34,899",
         "889",
         "557",
         "25",
         "772",
         "1126",
         "966",
         "1329",
         "824"
        ],
        [
         "27",
         "808",
         "131",
         "10",
         "299.0",
         "399.0",
         "0.25",
         "4.0",
         "2,766",
         "182",
         "595",
         "164",
         "365",
         "774",
         "931",
         "1299",
         "161"
        ],
        [
         "28",
         "1074",
         "324",
         "10",
         "970.0",
         "1999.0",
         "0.51",
         "4.4",
         "184",
         "21",
         "1192",
         "105",
         "313",
         "1036",
         "189",
         "1276",
         "398"
        ],
        [
         "29",
         "261",
         "1247",
         "10",
         "299.0",
         "999.0",
         "0.7",
         "4.3",
         "20,850",
         "63",
         "361",
         "355",
         "156",
         "624",
         "691",
         "634",
         "21"
        ],
        [
         "30",
         "92",
         "109",
         "10",
         "199.0",
         "750.0",
         "0.73",
         "4.5",
         "74,976",
         "684",
         "687",
         "673",
         "119",
         "734",
         "853",
         "1295",
         "102"
        ],
        [
         "31",
         "880",
         "127",
         "10",
         "179.0",
         "499.0",
         "0.64",
         "4.0",
         "1,934",
         "956",
         "736",
         "755",
         "352",
         "375",
         "882",
         "1050",
         "149"
        ],
        [
         "32",
         "708",
         "1237",
         "10",
         "389.0",
         "1099.0",
         "0.65",
         "4.3",
         "974",
         "1226",
         "1083",
         "671",
         "598",
         "511",
         "672",
         "380",
         "303"
        ],
        [
         "33",
         "14",
         "985",
         "10",
         "599.0",
         "599.0",
         "0.0",
         "4.3",
         "355",
         "1093",
         "213",
         "1006",
         "654",
         "453",
         "125",
         "826",
         "1089"
        ],
        [
         "34",
         "1198",
         "1327",
         "10",
         "199.0",
         "999.0",
         "0.8",
         "3.9",
         "1,075",
         "1110",
         "320",
         "640",
         "247",
         "946",
         "513",
         "722",
         "1456"
        ],
        [
         "35",
         "770",
         "1325",
         "10",
         "99.0",
         "666.66",
         "0.85",
         "3.9",
         "24,871",
         "398",
         "210",
         "428",
         "961",
         "604",
         "520",
         "906",
         "1142"
        ],
        [
         "36",
         "472",
         "118",
         "10",
         "899.0",
         "1900.0",
         "0.53",
         "4.4",
         "13,552",
         "397",
         "298",
         "1050",
         "343",
         "497",
         "219",
         "73",
         "92"
        ],
        [
         "37",
         "1038",
         "1022",
         "10",
         "199.0",
         "999.0",
         "0.8",
         "4.0",
         "576",
         "1213",
         "1144",
         "188",
         "1155",
         "1112",
         "476",
         "1011",
         "1159"
        ],
        [
         "38",
         "1172",
         "735",
         "97",
         "32999.0",
         "45999.0",
         "0.28",
         "4.2",
         "7,298",
         "864",
         "703",
         "48",
         "509",
         "159",
         "334",
         "802",
         "817"
        ],
        [
         "39",
         "876",
         "322",
         "10",
         "970.0",
         "1999.0",
         "0.51",
         "4.2",
         "462",
         "1113",
         "1122",
         "471",
         "682",
         "838",
         "815",
         "1098",
         "372"
        ],
        [
         "40",
         "91",
         "110",
         "10",
         "209.0",
         "695.0",
         "0.7",
         "4.5",
         "1,07,687",
         "683",
         "278",
         "875",
         "420",
         "234",
         "1027",
         "312",
         "128"
        ],
        [
         "41",
         "933",
         "672",
         "97",
         "19999.0",
         "34999.0",
         "0.43",
         "4.3",
         "27,151",
         "851",
         "975",
         "813",
         "298",
         "148",
         "626",
         "661",
         "1447"
        ],
        [
         "42",
         "345",
         "1155",
         "10",
         "399.0",
         "1099.0",
         "0.64",
         "4.2",
         "24,269",
         "1196",
         "623",
         "522",
         "817",
         "881",
         "604",
         "1090",
         "1306"
        ],
        [
         "43",
         "354",
         "1072",
         "49",
         "999.0",
         "1599.0",
         "0.38",
         "4.3",
         "12,093",
         "478",
         "180",
         "630",
         "1126",
         "178",
         "170",
         "1184",
         "1209"
        ],
        [
         "44",
         "986",
         "370",
         "10",
         "59.0",
         "199.0",
         "0.7",
         "4.0",
         "9,378",
         "622",
         "1048",
         "0",
         "797",
         "1076",
         "1101",
         "270",
         "446"
        ],
        [
         "45",
         "471",
         "1178",
         "10",
         "333.0",
         "999.0",
         "0.67",
         "3.3",
         "9,792",
         "946",
         "26",
         "100",
         "1160",
         "619",
         "134",
         "1291",
         "1328"
        ],
        [
         "46",
         "0",
         "299",
         "49",
         "507.0",
         "1208.0",
         "0.58",
         "4.1",
         "8,131",
         "293",
         "671",
         "1126",
         "461",
         "1145",
         "1149",
         "44",
         "358"
        ],
        [
         "47",
         "137",
         "76",
         "89",
         "309.0",
         "475.0",
         "0.35",
         "4.4",
         "4,26,973",
         "756",
         "279",
         "756",
         "151",
         "606",
         "336",
         "562",
         "110"
        ],
        [
         "48",
         "944",
         "13",
         "93",
         "399.0",
         "999.0",
         "0.6",
         "3.6",
         "493",
         "13",
         "939",
         "506",
         "1149",
         "801",
         "713",
         "838",
         "15"
        ],
        [
         "49",
         "234",
         "117",
         "10",
         "199.0",
         "395.0",
         "0.5",
         "4.2",
         "92,595",
         "212",
         "351",
         "591",
         "354",
         "980",
         "53",
         "926",
         "117"
        ]
       ],
       "shape": {
        "columns": 16,
        "rows": 1465
       }
      },
      "text/html": [
       "<div>\n",
       "<style scoped>\n",
       "    .dataframe tbody tr th:only-of-type {\n",
       "        vertical-align: middle;\n",
       "    }\n",
       "\n",
       "    .dataframe tbody tr th {\n",
       "        vertical-align: top;\n",
       "    }\n",
       "\n",
       "    .dataframe thead th {\n",
       "        text-align: right;\n",
       "    }\n",
       "</style>\n",
       "<table border=\"1\" class=\"dataframe\">\n",
       "  <thead>\n",
       "    <tr style=\"text-align: right;\">\n",
       "      <th></th>\n",
       "      <th>product_id</th>\n",
       "      <th>product_name</th>\n",
       "      <th>category</th>\n",
       "      <th>discounted_price</th>\n",
       "      <th>actual_price</th>\n",
       "      <th>discount_percentage</th>\n",
       "      <th>rating</th>\n",
       "      <th>rating_count</th>\n",
       "      <th>about_product</th>\n",
       "      <th>user_id</th>\n",
       "      <th>user_name</th>\n",
       "      <th>review_id</th>\n",
       "      <th>review_title</th>\n",
       "      <th>review_content</th>\n",
       "      <th>img_link</th>\n",
       "      <th>product_link</th>\n",
       "    </tr>\n",
       "  </thead>\n",
       "  <tbody>\n",
       "    <tr>\n",
       "      <th>0</th>\n",
       "      <td>346</td>\n",
       "      <td>1158</td>\n",
       "      <td>10</td>\n",
       "      <td>399.0</td>\n",
       "      <td>1099.0</td>\n",
       "      <td>0.64</td>\n",
       "      <td>4.2</td>\n",
       "      <td>24,269</td>\n",
       "      <td>474</td>\n",
       "      <td>623</td>\n",
       "      <td>522</td>\n",
       "      <td>817</td>\n",
       "      <td>881</td>\n",
       "      <td>604</td>\n",
       "      <td>1118</td>\n",
       "      <td>1308</td>\n",
       "    </tr>\n",
       "    <tr>\n",
       "      <th>1</th>\n",
       "      <td>848</td>\n",
       "      <td>134</td>\n",
       "      <td>10</td>\n",
       "      <td>199.0</td>\n",
       "      <td>349.0</td>\n",
       "      <td>0.43</td>\n",
       "      <td>4.0</td>\n",
       "      <td>43,994</td>\n",
       "      <td>279</td>\n",
       "      <td>88</td>\n",
       "      <td>207</td>\n",
       "      <td>1025</td>\n",
       "      <td>7</td>\n",
       "      <td>413</td>\n",
       "      <td>1248</td>\n",
       "      <td>157</td>\n",
       "    </tr>\n",
       "    <tr>\n",
       "      <th>2</th>\n",
       "      <td>819</td>\n",
       "      <td>1023</td>\n",
       "      <td>10</td>\n",
       "      <td>199.0</td>\n",
       "      <td>1899.0</td>\n",
       "      <td>0.90</td>\n",
       "      <td>3.9</td>\n",
       "      <td>7,928</td>\n",
       "      <td>1250</td>\n",
       "      <td>849</td>\n",
       "      <td>482</td>\n",
       "      <td>827</td>\n",
       "      <td>422</td>\n",
       "      <td>674</td>\n",
       "      <td>876</td>\n",
       "      <td>1160</td>\n",
       "    </tr>\n",
       "    <tr>\n",
       "      <th>3</th>\n",
       "      <td>643</td>\n",
       "      <td>1264</td>\n",
       "      <td>10</td>\n",
       "      <td>329.0</td>\n",
       "      <td>699.0</td>\n",
       "      <td>0.53</td>\n",
       "      <td>4.2</td>\n",
       "      <td>94,363</td>\n",
       "      <td>1010</td>\n",
       "      <td>254</td>\n",
       "      <td>614</td>\n",
       "      <td>786</td>\n",
       "      <td>376</td>\n",
       "      <td>269</td>\n",
       "      <td>518</td>\n",
       "      <td>380</td>\n",
       "    </tr>\n",
       "    <tr>\n",
       "      <th>4</th>\n",
       "      <td>588</td>\n",
       "      <td>829</td>\n",
       "      <td>10</td>\n",
       "      <td>154.0</td>\n",
       "      <td>399.0</td>\n",
       "      <td>0.61</td>\n",
       "      <td>4.2</td>\n",
       "      <td>16,905</td>\n",
       "      <td>1189</td>\n",
       "      <td>17</td>\n",
       "      <td>1139</td>\n",
       "      <td>114</td>\n",
       "      <td>44</td>\n",
       "      <td>120</td>\n",
       "      <td>1209</td>\n",
       "      <td>919</td>\n",
       "    </tr>\n",
       "    <tr>\n",
       "      <th>...</th>\n",
       "      <td>...</td>\n",
       "      <td>...</td>\n",
       "      <td>...</td>\n",
       "      <td>...</td>\n",
       "      <td>...</td>\n",
       "      <td>...</td>\n",
       "      <td>...</td>\n",
       "      <td>...</td>\n",
       "      <td>...</td>\n",
       "      <td>...</td>\n",
       "      <td>...</td>\n",
       "      <td>...</td>\n",
       "      <td>...</td>\n",
       "      <td>...</td>\n",
       "      <td>...</td>\n",
       "      <td>...</td>\n",
       "    </tr>\n",
       "    <tr>\n",
       "      <th>1460</th>\n",
       "      <td>673</td>\n",
       "      <td>696</td>\n",
       "      <td>192</td>\n",
       "      <td>379.0</td>\n",
       "      <td>919.0</td>\n",
       "      <td>0.59</td>\n",
       "      <td>4.0</td>\n",
       "      <td>1,090</td>\n",
       "      <td>902</td>\n",
       "      <td>1050</td>\n",
       "      <td>646</td>\n",
       "      <td>804</td>\n",
       "      <td>868</td>\n",
       "      <td>425</td>\n",
       "      <td>595</td>\n",
       "      <td>771</td>\n",
       "    </tr>\n",
       "    <tr>\n",
       "      <th>1461</th>\n",
       "      <td>201</td>\n",
       "      <td>850</td>\n",
       "      <td>172</td>\n",
       "      <td>2280.0</td>\n",
       "      <td>3045.0</td>\n",
       "      <td>0.25</td>\n",
       "      <td>4.1</td>\n",
       "      <td>4,118</td>\n",
       "      <td>76</td>\n",
       "      <td>425</td>\n",
       "      <td>537</td>\n",
       "      <td>779</td>\n",
       "      <td>1167</td>\n",
       "      <td>1184</td>\n",
       "      <td>612</td>\n",
       "      <td>946</td>\n",
       "    </tr>\n",
       "    <tr>\n",
       "      <th>1462</th>\n",
       "      <td>27</td>\n",
       "      <td>164</td>\n",
       "      <td>138</td>\n",
       "      <td>2219.0</td>\n",
       "      <td>3080.0</td>\n",
       "      <td>0.28</td>\n",
       "      <td>3.6</td>\n",
       "      <td>468</td>\n",
       "      <td>520</td>\n",
       "      <td>865</td>\n",
       "      <td>596</td>\n",
       "      <td>288</td>\n",
       "      <td>1181</td>\n",
       "      <td>1186</td>\n",
       "      <td>1088</td>\n",
       "      <td>201</td>\n",
       "    </tr>\n",
       "    <tr>\n",
       "      <th>1463</th>\n",
       "      <td>61</td>\n",
       "      <td>462</td>\n",
       "      <td>129</td>\n",
       "      <td>1399.0</td>\n",
       "      <td>1890.0</td>\n",
       "      <td>0.26</td>\n",
       "      <td>4.0</td>\n",
       "      <td>8,031</td>\n",
       "      <td>395</td>\n",
       "      <td>300</td>\n",
       "      <td>885</td>\n",
       "      <td>749</td>\n",
       "      <td>212</td>\n",
       "      <td>375</td>\n",
       "      <td>1130</td>\n",
       "      <td>548</td>\n",
       "    </tr>\n",
       "    <tr>\n",
       "      <th>1464</th>\n",
       "      <td>134</td>\n",
       "      <td>195</td>\n",
       "      <td>174</td>\n",
       "      <td>2863.0</td>\n",
       "      <td>3690.0</td>\n",
       "      <td>0.22</td>\n",
       "      <td>4.3</td>\n",
       "      <td>6,987</td>\n",
       "      <td>198</td>\n",
       "      <td>433</td>\n",
       "      <td>717</td>\n",
       "      <td>339</td>\n",
       "      <td>1091</td>\n",
       "      <td>475</td>\n",
       "      <td>1114</td>\n",
       "      <td>237</td>\n",
       "    </tr>\n",
       "  </tbody>\n",
       "</table>\n",
       "<p>1465 rows × 16 columns</p>\n",
       "</div>"
      ],
      "text/plain": [
       "      product_id  product_name  category  discounted_price  actual_price  \\\n",
       "0            346          1158        10             399.0        1099.0   \n",
       "1            848           134        10             199.0         349.0   \n",
       "2            819          1023        10             199.0        1899.0   \n",
       "3            643          1264        10             329.0         699.0   \n",
       "4            588           829        10             154.0         399.0   \n",
       "...          ...           ...       ...               ...           ...   \n",
       "1460         673           696       192             379.0         919.0   \n",
       "1461         201           850       172            2280.0        3045.0   \n",
       "1462          27           164       138            2219.0        3080.0   \n",
       "1463          61           462       129            1399.0        1890.0   \n",
       "1464         134           195       174            2863.0        3690.0   \n",
       "\n",
       "      discount_percentage  rating rating_count  about_product  user_id  \\\n",
       "0                    0.64     4.2       24,269            474      623   \n",
       "1                    0.43     4.0       43,994            279       88   \n",
       "2                    0.90     3.9        7,928           1250      849   \n",
       "3                    0.53     4.2       94,363           1010      254   \n",
       "4                    0.61     4.2       16,905           1189       17   \n",
       "...                   ...     ...          ...            ...      ...   \n",
       "1460                 0.59     4.0        1,090            902     1050   \n",
       "1461                 0.25     4.1        4,118             76      425   \n",
       "1462                 0.28     3.6          468            520      865   \n",
       "1463                 0.26     4.0        8,031            395      300   \n",
       "1464                 0.22     4.3        6,987            198      433   \n",
       "\n",
       "      user_name  review_id  review_title  review_content  img_link  \\\n",
       "0           522        817           881             604      1118   \n",
       "1           207       1025             7             413      1248   \n",
       "2           482        827           422             674       876   \n",
       "3           614        786           376             269       518   \n",
       "4          1139        114            44             120      1209   \n",
       "...         ...        ...           ...             ...       ...   \n",
       "1460        646        804           868             425       595   \n",
       "1461        537        779          1167            1184       612   \n",
       "1462        596        288          1181            1186      1088   \n",
       "1463        885        749           212             375      1130   \n",
       "1464        717        339          1091             475      1114   \n",
       "\n",
       "      product_link  \n",
       "0             1308  \n",
       "1              157  \n",
       "2             1160  \n",
       "3              380  \n",
       "4              919  \n",
       "...            ...  \n",
       "1460           771  \n",
       "1461           946  \n",
       "1462           201  \n",
       "1463           548  \n",
       "1464           237  \n",
       "\n",
       "[1465 rows x 16 columns]"
      ]
     },
     "execution_count": 27,
     "metadata": {},
     "output_type": "execute_result"
    }
   ],
   "source": [
    "df"
   ]
  },
  {
   "cell_type": "code",
   "execution_count": 28,
   "id": "a435c553",
   "metadata": {},
   "outputs": [],
   "source": [
    "df['rating_count'] = df['rating_count'].str.replace(',', '')\n",
    "df['rating_count'] = df['rating_count'].astype(float)"
   ]
  },
  {
   "cell_type": "code",
   "execution_count": 29,
   "id": "423f1fe7",
   "metadata": {},
   "outputs": [],
   "source": [
    "df['rating'] = df['rating'].fillna(df.rating.mean())\n",
    "df['rating_count'] =df['rating_count'].fillna(df['rating_count'].median)"
   ]
  },
  {
   "cell_type": "code",
   "execution_count": 30,
   "id": "ae17130a",
   "metadata": {},
   "outputs": [],
   "source": [
    "correleation = df.corr(numeric_only=True)"
   ]
  },
  {
   "cell_type": "code",
   "execution_count": 31,
   "id": "340db6a4",
   "metadata": {},
   "outputs": [
    {
     "data": {
      "text/plain": [
       "(1465, 16)"
      ]
     },
     "execution_count": 31,
     "metadata": {},
     "output_type": "execute_result"
    }
   ],
   "source": [
    "df.shape"
   ]
  },
  {
   "cell_type": "code",
   "execution_count": 34,
   "id": "63643fe9",
   "metadata": {},
   "outputs": [
    {
     "data": {
      "text/plain": [
       "<Axes: >"
      ]
     },
     "execution_count": 34,
     "metadata": {},
     "output_type": "execute_result"
    },
    {
     "data": {
      "image/png": "[encoded data removed]",
      "text/plain": [
       "<Figure size 640x480 with 2 Axes>"
      ]
     },
     "metadata": {},
     "output_type": "display_data"
    }
   ],
   "source": [
    "mask = np.triu(np.ones_like(correleation, dtype=bool))\n",
    "sns.heatmap(correleation, annot = True, cmap = 'coolwarm')\n"
   ]
  },
  {
   "cell_type": "code",
   "execution_count": null,
   "id": "75c59942",
   "metadata": {},
   "outputs": [],
   "source": []
  }
 ],
 "metadata": {
  "kernelspec": {
   "display_name": "Python 3",
   "language": "python",
   "name": "python3"
  },
  "language_info": {
   "codemirror_mode": {
    "name": "ipython",
    "version": 3
   },
   "file_extension": ".py",
   "mimetype": "text/x-python",
   "name": "python",
   "nbconvert_exporter": "python",
   "pygments_lexer": "ipython3",
   "version": "3.13.5"
  }
 },
 "nbformat": 4,
 "nbformat_minor": 5
}
